{
 "cells": [
  {
   "cell_type": "markdown",
   "metadata": {},
   "source": [
    "## Make MorphoGraph"
   ]
  },
  {
   "cell_type": "code",
   "execution_count": 1,
   "metadata": {},
   "outputs": [],
   "source": [
    "import igraph as ig\n",
    "import pickle"
   ]
  },
  {
   "cell_type": "code",
   "execution_count": 2,
   "metadata": {},
   "outputs": [],
   "source": [
    "import pandas as pd\n",
    "import numpy as np\n",
    "from tqdm.auto import tqdm"
   ]
  },
  {
   "cell_type": "code",
   "execution_count": 15,
   "metadata": {},
   "outputs": [],
   "source": [
    "with open(\"../data/asbc5_words.pkl\", \"rb\") as fin:\n",
    "    words = pickle.load(fin)"
   ]
  },
  {
   "cell_type": "code",
   "execution_count": 16,
   "metadata": {},
   "outputs": [],
   "source": [
    "freqs = np.array(list(map(lambda x: x[1], filter(lambda x: len(x[0])==2, words.items()))))\n",
    "freqs.sort()\n",
    "freqs = freqs[::-1]"
   ]
  },
  {
   "cell_type": "code",
   "execution_count": 17,
   "metadata": {},
   "outputs": [],
   "source": [
    "from matplotlib import pyplot as plt"
   ]
  },
  {
   "cell_type": "code",
   "execution_count": 21,
   "metadata": {},
   "outputs": [
    {
     "data": {
      "text/plain": [
       "[<matplotlib.lines.Line2D at 0x14f5fa8deb0>]"
      ]
     },
     "execution_count": 21,
     "metadata": {},
     "output_type": "execute_result"
    },
    {
     "data": {
      "image/png": "[encoded data removed]",
      "text/plain": [
       "<Figure size 432x288 with 1 Axes>"
      ]
     },
     "metadata": {
      "needs_background": "light"
     },
     "output_type": "display_data"
    }
   ],
   "source": [
    "minF = np.min(-np.log(freqs))\n",
    "def trans_freq(x):\n",
    "    return -np.log(x)-minF+1\n",
    "plt.plot(trans_freq(freqs))"
   ]
  },
  {
   "cell_type": "code",
   "execution_count": 22,
   "metadata": {},
   "outputs": [
    {
     "data": {
      "application/vnd.jupyter.widget-view+json": {
       "model_id": "36bc786b714c4dd892b4aef9e411e7a2",
       "version_major": 2,
       "version_minor": 0
      },
      "text/plain": [
       "HBox(children=(FloatProgress(value=0.0, max=217348.0), HTML(value='')))"
      ]
     },
     "metadata": {},
     "output_type": "display_data"
    },
    {
     "name": "stdout",
     "output_type": "stream",
     "text": [
      "\n"
     ]
    }
   ],
   "source": [
    "from itertools import islice\n",
    "mG = ig.Graph(directed=True)\n",
    "edges = []\n",
    "weights = []\n",
    "node_set = set()\n",
    "for w in tqdm(words.keys()):\n",
    "    if len(w) != 2 or w[0]==w[1]: continue    \n",
    "    if w[0] not in node_set:\n",
    "        mG.add_vertex(w[0])\n",
    "        node_set.add(w[0])\n",
    "    if w[1] not in node_set:\n",
    "        mG.add_vertex(w[1])\n",
    "        node_set.add(w[1])\n",
    "    edges.append((w[0], w[1]))\n",
    "    weights.append(trans_freq(words[w]))\n",
    "    \n",
    "mG.add_edges(edges, {\"weight\": weights})"
   ]
  },
  {
   "cell_type": "code",
   "execution_count": 23,
   "metadata": {},
   "outputs": [
    {
     "data": {
      "text/plain": [
       "'IGRAPH DNW- 6131 96935 -- \\n+ attr: name (v), weight (e)'"
      ]
     },
     "execution_count": 23,
     "metadata": {},
     "output_type": "execute_result"
    }
   ],
   "source": [
    "mG.summary()"
   ]
  },
  {
   "cell_type": "code",
   "execution_count": 24,
   "metadata": {},
   "outputs": [],
   "source": [
    "compo_sizes = [len(x) for x in mG.components(mode=\"weak\")]"
   ]
  },
  {
   "cell_type": "code",
   "execution_count": 25,
   "metadata": {},
   "outputs": [
    {
     "data": {
      "text/plain": [
       "(array([   2,    3,    4, 6003]), array([57,  2,  2,  1], dtype=int64))"
      ]
     },
     "execution_count": 25,
     "metadata": {},
     "output_type": "execute_result"
    }
   ],
   "source": [
    "np.unique(compo_sizes, return_counts=True)"
   ]
  },
  {
   "cell_type": "code",
   "execution_count": 26,
   "metadata": {},
   "outputs": [
    {
     "data": {
      "text/plain": [
       "{2: ['嘧啶',\n",
       "  '躊躇',\n",
       "  '蹣跚',\n",
       "  '蟋蟀',\n",
       "  '蝌蚪',\n",
       "  '酩酊',\n",
       "  '踉蹌',\n",
       "  '蹌踉',\n",
       "  '嶙峋',\n",
       "  '躑躅',\n",
       "  '瞽瞍',\n",
       "  '佝僂',\n",
       "  '疙瘩',\n",
       "  '憔悴',\n",
       "  '檸檬',\n",
       "  '妊娠',\n",
       "  '篳篥',\n",
       "  '箜篌',\n",
       "  '玳瑁',\n",
       "  '忐忑',\n",
       "  '囹圄',\n",
       "  '／＊',\n",
       "  '傀儡',\n",
       "  '枇杷',\n",
       "  '惺忪',\n",
       "  '嚅囁',\n",
       "  '囁嚅',\n",
       "  '醍醐',\n",
       "  '袈裟',\n",
       "  '齷齪',\n",
       "  '妯娌',\n",
       "  '蜈蚣',\n",
       "  '蝤蠐',\n",
       "  '耄耋',\n",
       "  '囫圇',\n",
       "  '倥傯',\n",
       "  '餛飩',\n",
       "  '鞦韆',\n",
       "  '鵪鶉',\n",
       "  '鷓鴣',\n",
       "  '鸕鶿',\n",
       "  '鵜鶘',\n",
       "  '顢頇',\n",
       "  '踟躕',\n",
       "  '呶嘵',\n",
       "  '趑趄',\n",
       "  '嘿咻',\n",
       "  '窸窣',\n",
       "  '蛞蝓',\n",
       "  '邯鄲',\n",
       "  '犰狳',\n",
       "  '蠑螈',\n",
       "  '蒟蒻',\n",
       "  '糌粑',\n",
       "  '蠨蛸',\n",
       "  '硨磲',\n",
       "  '鵂鶹',\n",
       "  '彳亍',\n",
       "  '苜蓿'],\n",
       " 3: ['蹂躪', '蹂躝', 'ㄉㄟ', 'ㄉㄡ'],\n",
       " 4: ['齟齬', '齟鋙', '鉏鋙', '迤邐', '邐迤', '逶迤', '迆邐']}"
      ]
     },
     "execution_count": 26,
     "metadata": {},
     "output_type": "execute_result"
    }
   ],
   "source": [
    "words = {}\n",
    "for compos in mG.components(\"weak\"):    \n",
    "    if len(compos) > 10: continue\n",
    "    xG = mG.induced_subgraph(compos)    \n",
    "    for e in xG.es:\n",
    "        w = list(map(lambda x: xG.vs[x][\"name\"], [e.source, e.target]))\n",
    "        words.setdefault(len(compos), []).append(\"\".join(w))        \n",
    "words"
   ]
  },
  {
   "cell_type": "code",
   "execution_count": 27,
   "metadata": {},
   "outputs": [],
   "source": [
    "with open(\"../data/morpho_graph.pkl\", \"wb\") as fout:\n",
    "    pickle.dump(mG, fout)"
   ]
  },
  {
   "cell_type": "code",
   "execution_count": null,
   "metadata": {},
   "outputs": [],
   "source": []
  }
 ],
 "metadata": {
  "kernelspec": {
   "display_name": "Python 3",
   "language": "python",
   "name": "python3"
  },
  "language_info": {
   "codemirror_mode": {
    "name": "ipython",
    "version": 3
   },
   "file_extension": ".py",
   "mimetype": "text/x-python",
   "name": "python",
   "nbconvert_exporter": "python",
   "pygments_lexer": "ipython3",
   "version": "3.8.2"
  }
 },
 "nbformat": 4,
 "nbformat_minor": 4
}
