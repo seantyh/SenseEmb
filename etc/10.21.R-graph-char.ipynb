{
 "cells": [
  {
   "cell_type": "code",
   "execution_count": 5,
   "metadata": {},
   "outputs": [
    {
     "name": "stderr",
     "output_type": "stream",
     "text": [
      "Warning message:\n",
      "\"Missing column names filled in: 'X1' [1]\"\n"
     ]
    },
    {
     "name": "stdout",
     "output_type": "stream",
     "text": [
      "[1] 1398   30\n",
      "Dataset is loaded to naming, wdata, nwdata"
     ]
    }
   ],
   "source": [
    "suppressMessages(source(\"../src/R/load_data.R\"))"
   ]
  },
  {
   "cell_type": "code",
   "execution_count": 6,
   "metadata": {},
   "outputs": [],
   "source": [
    "require(semTools)\n",
    "require(lavaan)\n",
    "require(piecewiseSEM)\n",
    "require(partykit)\n",
    "require(mgcv)\n",
    "require(itsadug)\n",
    "require(languageR)"
   ]
  },
  {
   "cell_type": "code",
   "execution_count": 7,
   "metadata": {},
   "outputs": [],
   "source": [
    "## helper function to plot interaction\n",
    "popt = function(w, h, r=200) { options(repr.plot.width=w, repr.plot.height=h, repr.plot.res=r) }\n",
    "plot_int = function(model, idx, x, y, ...){\n",
    "    popt(12, 6)\n",
    "    par(mfrow=c(1,2))\n",
    "    plot(model, select=idx, lwd=2, ...)\n",
    "    vis.gam(model, view=c(x, y), plot.type=\"contour\", color=\"topo\", too.far=0.1, ...)\n",
    "}"
   ]
  },
  {
   "cell_type": "code",
   "execution_count": 8,
   "metadata": {},
   "outputs": [
    {
     "data": {
      "text/html": [
       "<style>\n",
       ".list-inline {list-style: none; margin:0; padding: 0}\n",
       ".list-inline>li {display: inline-block}\n",
       ".list-inline>li:not(:last-child)::after {content: \"\\00b7\"; padding: 0 .5ex}\n",
       "</style>\n",
       "<ol class=list-inline><li>1053</li><li>58</li></ol>\n"
      ],
      "text/latex": [
       "\\begin{enumerate*}\n",
       "\\item 1053\n",
       "\\item 58\n",
       "\\end{enumerate*}\n"
      ],
      "text/markdown": [
       "1. 1053\n",
       "2. 58\n",
       "\n",
       "\n"
      ],
      "text/plain": [
       "[1] 1053   58"
      ]
     },
     "metadata": {},
     "output_type": "display_data"
    }
   ],
   "source": [
    "dim(naming)"
   ]
  },
  {
   "cell_type": "code",
   "execution_count": 9,
   "metadata": {},
   "outputs": [
    {
     "data": {
      "text/html": [
       "<style>\n",
       ".list-inline {list-style: none; margin:0; padding: 0}\n",
       ".list-inline>li {display: inline-block}\n",
       ".list-inline>li:not(:last-child)::after {content: \"\\00b7\"; padding: 0 .5ex}\n",
       "</style>\n",
       "<ol class=list-inline><li>'Character'</li><li>'zhuyin'</li><li>'Phonetic Component'</li><li>'Semantic Component'</li><li>'Frequency'</li><li>'Consistency (type)'</li><li>'Consistency (token)'</li><li>'Regularity'</li><li>'Homophone Density'</li><li>'Phonetic Combinability'</li><li>'Semantic Combinability'</li><li>'Stroke'</li><li>'Familiarity'</li><li>'sar'</li><li>'NC1'</li><li>'NC2'</li><li>'Naming Acc'</li><li>'RT'</li><li>'word'</li><li>'n_sense'</li><li>'log_n_sense'</li><li>'n_tagged'</li><li>'sfreq_sum'</li><li>'sfreq_max'</li><li>'sfreq_std'</li><li>'sfreq_ent'</li><li>'sfreq_ent_norm'</li><li>'vol_raw'</li><li>'vol_cen'</li><li>'vol_cennorm'</li><li>'Stop'</li><li>'Affricate'</li><li>'Fricative'</li><li>'Nasal'</li><li>'Liquid'</li><li>'Aspirated'</li><li>'Voiced'</li><li>'Bilabial'</li><li>'LabioDental'</li><li>'Alveolar'</li><li>'PalatalAlveolar'</li><li>'AlveloPalatal'</li><li>'Velar'</li><li>'log_freq'</li><li>'RTinv'</li><li>'sf_rmax'</li><li>'mw_nV'</li><li>'mw_nE'</li><li>'mw_weightD'</li><li>'mw_D'</li><li>'rEV'</li><li>'CD'</li><li>'log_CD'</li><li>'SemD'</li><li>'SemVar'</li><li>'SemVarRes'</li><li>'Witin-group distance'</li><li>'Between-group distance'</li></ol>\n"
      ],
      "text/latex": [
       "\\begin{enumerate*}\n",
       "\\item 'Character'\n",
       "\\item 'zhuyin'\n",
       "\\item 'Phonetic Component'\n",
       "\\item 'Semantic Component'\n",
       "\\item 'Frequency'\n",
       "\\item 'Consistency (type)'\n",
       "\\item 'Consistency (token)'\n",
       "\\item 'Regularity'\n",
       "\\item 'Homophone Density'\n",
       "\\item 'Phonetic Combinability'\n",
       "\\item 'Semantic Combinability'\n",
       "\\item 'Stroke'\n",
       "\\item 'Familiarity'\n",
       "\\item 'sar'\n",
       "\\item 'NC1'\n",
       "\\item 'NC2'\n",
       "\\item 'Naming Acc'\n",
       "\\item 'RT'\n",
       "\\item 'word'\n",
       "\\item 'n\\_sense'\n",
       "\\item 'log\\_n\\_sense'\n",
       "\\item 'n\\_tagged'\n",
       "\\item 'sfreq\\_sum'\n",
       "\\item 'sfreq\\_max'\n",
       "\\item 'sfreq\\_std'\n",
       "\\item 'sfreq\\_ent'\n",
       "\\item 'sfreq\\_ent\\_norm'\n",
       "\\item 'vol\\_raw'\n",
       "\\item 'vol\\_cen'\n",
       "\\item 'vol\\_cennorm'\n",
       "\\item 'Stop'\n",
       "\\item 'Affricate'\n",
       "\\item 'Fricative'\n",
       "\\item 'Nasal'\n",
       "\\item 'Liquid'\n",
       "\\item 'Aspirated'\n",
       "\\item 'Voiced'\n",
       "\\item 'Bilabial'\n",
       "\\item 'LabioDental'\n",
       "\\item 'Alveolar'\n",
       "\\item 'PalatalAlveolar'\n",
       "\\item 'AlveloPalatal'\n",
       "\\item 'Velar'\n",
       "\\item 'log\\_freq'\n",
       "\\item 'RTinv'\n",
       "\\item 'sf\\_rmax'\n",
       "\\item 'mw\\_nV'\n",
       "\\item 'mw\\_nE'\n",
       "\\item 'mw\\_weightD'\n",
       "\\item 'mw\\_D'\n",
       "\\item 'rEV'\n",
       "\\item 'CD'\n",
       "\\item 'log\\_CD'\n",
       "\\item 'SemD'\n",
       "\\item 'SemVar'\n",
       "\\item 'SemVarRes'\n",
       "\\item 'Witin-group distance'\n",
       "\\item 'Between-group distance'\n",
       "\\end{enumerate*}\n"
      ],
      "text/markdown": [
       "1. 'Character'\n",
       "2. 'zhuyin'\n",
       "3. 'Phonetic Component'\n",
       "4. 'Semantic Component'\n",
       "5. 'Frequency'\n",
       "6. 'Consistency (type)'\n",
       "7. 'Consistency (token)'\n",
       "8. 'Regularity'\n",
       "9. 'Homophone Density'\n",
       "10. 'Phonetic Combinability'\n",
       "11. 'Semantic Combinability'\n",
       "12. 'Stroke'\n",
       "13. 'Familiarity'\n",
       "14. 'sar'\n",
       "15. 'NC1'\n",
       "16. 'NC2'\n",
       "17. 'Naming Acc'\n",
       "18. 'RT'\n",
       "19. 'word'\n",
       "20. 'n_sense'\n",
       "21. 'log_n_sense'\n",
       "22. 'n_tagged'\n",
       "23. 'sfreq_sum'\n",
       "24. 'sfreq_max'\n",
       "25. 'sfreq_std'\n",
       "26. 'sfreq_ent'\n",
       "27. 'sfreq_ent_norm'\n",
       "28. 'vol_raw'\n",
       "29. 'vol_cen'\n",
       "30. 'vol_cennorm'\n",
       "31. 'Stop'\n",
       "32. 'Affricate'\n",
       "33. 'Fricative'\n",
       "34. 'Nasal'\n",
       "35. 'Liquid'\n",
       "36. 'Aspirated'\n",
       "37. 'Voiced'\n",
       "38. 'Bilabial'\n",
       "39. 'LabioDental'\n",
       "40. 'Alveolar'\n",
       "41. 'PalatalAlveolar'\n",
       "42. 'AlveloPalatal'\n",
       "43. 'Velar'\n",
       "44. 'log_freq'\n",
       "45. 'RTinv'\n",
       "46. 'sf_rmax'\n",
       "47. 'mw_nV'\n",
       "48. 'mw_nE'\n",
       "49. 'mw_weightD'\n",
       "50. 'mw_D'\n",
       "51. 'rEV'\n",
       "52. 'CD'\n",
       "53. 'log_CD'\n",
       "54. 'SemD'\n",
       "55. 'SemVar'\n",
       "56. 'SemVarRes'\n",
       "57. 'Witin-group distance'\n",
       "58. 'Between-group distance'\n",
       "\n",
       "\n"
      ],
      "text/plain": [
       " [1] \"Character\"              \"zhuyin\"                 \"Phonetic Component\"    \n",
       " [4] \"Semantic Component\"     \"Frequency\"              \"Consistency (type)\"    \n",
       " [7] \"Consistency (token)\"    \"Regularity\"             \"Homophone Density\"     \n",
       "[10] \"Phonetic Combinability\" \"Semantic Combinability\" \"Stroke\"                \n",
       "[13] \"Familiarity\"            \"sar\"                    \"NC1\"                   \n",
       "[16] \"NC2\"                    \"Naming Acc\"             \"RT\"                    \n",
       "[19] \"word\"                   \"n_sense\"                \"log_n_sense\"           \n",
       "[22] \"n_tagged\"               \"sfreq_sum\"              \"sfreq_max\"             \n",
       "[25] \"sfreq_std\"              \"sfreq_ent\"              \"sfreq_ent_norm\"        \n",
       "[28] \"vol_raw\"                \"vol_cen\"                \"vol_cennorm\"           \n",
       "[31] \"Stop\"                   \"Affricate\"              \"Fricative\"             \n",
       "[34] \"Nasal\"                  \"Liquid\"                 \"Aspirated\"             \n",
       "[37] \"Voiced\"                 \"Bilabial\"               \"LabioDental\"           \n",
       "[40] \"Alveolar\"               \"PalatalAlveolar\"        \"AlveloPalatal\"         \n",
       "[43] \"Velar\"                  \"log_freq\"               \"RTinv\"                 \n",
       "[46] \"sf_rmax\"                \"mw_nV\"                  \"mw_nE\"                 \n",
       "[49] \"mw_weightD\"             \"mw_D\"                   \"rEV\"                   \n",
       "[52] \"CD\"                     \"log_CD\"                 \"SemD\"                  \n",
       "[55] \"SemVar\"                 \"SemVarRes\"              \"Witin-group distance\"  \n",
       "[58] \"Between-group distance\""
      ]
     },
     "metadata": {},
     "output_type": "display_data"
    }
   ],
   "source": [
    "names(naming)"
   ]
  },
  {
   "cell_type": "code",
   "execution_count": 10,
   "metadata": {},
   "outputs": [
    {
     "data": {
      "text/html": [
       "<style>\n",
       ".list-inline {list-style: none; margin:0; padding: 0}\n",
       ".list-inline>li {display: inline-block}\n",
       ".list-inline>li:not(:last-child)::after {content: \"\\00b7\"; padding: 0 .5ex}\n",
       "</style>\n",
       "<ol class=list-inline><li>1053</li><li>9</li></ol>\n"
      ],
      "text/latex": [
       "\\begin{enumerate*}\n",
       "\\item 1053\n",
       "\\item 9\n",
       "\\end{enumerate*}\n"
      ],
      "text/markdown": [
       "1. 1053\n",
       "2. 9\n",
       "\n",
       "\n"
      ],
      "text/plain": [
       "[1] 1053    9"
      ]
     },
     "metadata": {},
     "output_type": "display_data"
    }
   ],
   "source": [
    "sa = naming[, strsplit(\"log_freq,sar,log_n_sense,sfreq_ent_norm,mw_weightD,rEV,log_CD,SemD,SemVar\", \",\")[[1]]]\n",
    "sa_scaled = apply(sa, 2, scale)\n",
    "dim(sa)"
   ]
  },
  {
   "cell_type": "code",
   "execution_count": 11,
   "metadata": {},
   "outputs": [
    {
     "data": {
      "text/html": [
       "<style>\n",
       ".list-inline {list-style: none; margin:0; padding: 0}\n",
       ".list-inline>li {display: inline-block}\n",
       ".list-inline>li:not(:last-child)::after {content: \"\\00b7\"; padding: 0 .5ex}\n",
       "</style>\n",
       "<ol class=list-inline><li>'log_freq'</li><li>'sar'</li><li>'log_n_sense'</li><li>'sfreq_ent_norm'</li><li>'mw_weightD'</li><li>'rEV'</li><li>'log_CD'</li><li>'SemD'</li><li>'SemVar'</li></ol>\n"
      ],
      "text/latex": [
       "\\begin{enumerate*}\n",
       "\\item 'log\\_freq'\n",
       "\\item 'sar'\n",
       "\\item 'log\\_n\\_sense'\n",
       "\\item 'sfreq\\_ent\\_norm'\n",
       "\\item 'mw\\_weightD'\n",
       "\\item 'rEV'\n",
       "\\item 'log\\_CD'\n",
       "\\item 'SemD'\n",
       "\\item 'SemVar'\n",
       "\\end{enumerate*}\n"
      ],
      "text/markdown": [
       "1. 'log_freq'\n",
       "2. 'sar'\n",
       "3. 'log_n_sense'\n",
       "4. 'sfreq_ent_norm'\n",
       "5. 'mw_weightD'\n",
       "6. 'rEV'\n",
       "7. 'log_CD'\n",
       "8. 'SemD'\n",
       "9. 'SemVar'\n",
       "\n",
       "\n"
      ],
      "text/plain": [
       "[1] \"log_freq\"       \"sar\"            \"log_n_sense\"    \"sfreq_ent_norm\"\n",
       "[5] \"mw_weightD\"     \"rEV\"            \"log_CD\"         \"SemD\"          \n",
       "[9] \"SemVar\"        "
      ]
     },
     "metadata": {},
     "output_type": "display_data"
    }
   ],
   "source": [
    "names(sa)"
   ]
  },
  {
   "cell_type": "code",
   "execution_count": 12,
   "metadata": {},
   "outputs": [
    {
     "data": {
      "image/png": "[encoded data removed]",
      "text/plain": [
       "plot without title"
      ]
     },
     "metadata": {
      "image/png": {
       "height": 800,
       "width": 800
      }
     },
     "output_type": "display_data"
    }
   ],
   "source": [
    "popt(8, 8)\n",
    "pairscor.fnc(sa)"
   ]
  },
  {
   "cell_type": "code",
   "execution_count": 13,
   "metadata": {},
   "outputs": [
    {
     "data": {
      "text/html": [
       "<table class=\"dataframe\">\n",
       "<caption>A lavaan.data.frame: 6 × 9</caption>\n",
       "<thead>\n",
       "\t<tr><th scope=col>lhs</th><th scope=col>op</th><th scope=col>rhs</th><th scope=col>est</th><th scope=col>se</th><th scope=col>z</th><th scope=col>pvalue</th><th scope=col>ci.lower</th><th scope=col>ci.upper</th></tr>\n",
       "\t<tr><th scope=col>&lt;chr&gt;</th><th scope=col>&lt;chr&gt;</th><th scope=col>&lt;chr&gt;</th><th scope=col>&lt;dbl&gt;</th><th scope=col>&lt;dbl&gt;</th><th scope=col>&lt;dbl&gt;</th><th scope=col>&lt;dbl&gt;</th><th scope=col>&lt;dbl&gt;</th><th scope=col>&lt;dbl&gt;</th></tr>\n",
       "</thead>\n",
       "<tbody>\n",
       "\t<tr><td>sar        </td><td>~ </td><td>log_n_sense</td><td>0.3660270</td><td>0.020694811</td><td>17.686900</td><td>0.000000e+00</td><td>0.3254660</td><td>0.4065881</td></tr>\n",
       "\t<tr><td>sar        </td><td>~ </td><td>log_CD     </td><td>0.1966090</td><td>0.025267318</td><td> 7.781157</td><td>7.105427e-15</td><td>0.1470859</td><td>0.2461320</td></tr>\n",
       "\t<tr><td>log_CD     </td><td>~ </td><td>log_n_sense</td><td>0.2633611</td><td>0.023899497</td><td>11.019524</td><td>0.000000e+00</td><td>0.2165189</td><td>0.3102032</td></tr>\n",
       "\t<tr><td>sar        </td><td>~~</td><td>sar        </td><td>0.2139814</td><td>0.009325602</td><td>22.945588</td><td>0.000000e+00</td><td>0.1957036</td><td>0.2322593</td></tr>\n",
       "\t<tr><td>log_CD     </td><td>~~</td><td>log_CD     </td><td>0.3182947</td><td>0.013871717</td><td>22.945588</td><td>0.000000e+00</td><td>0.2911066</td><td>0.3454828</td></tr>\n",
       "\t<tr><td>log_n_sense</td><td>~~</td><td>log_n_sense</td><td>0.5292045</td><td>0.000000000</td><td>       NA</td><td>          NA</td><td>0.5292045</td><td>0.5292045</td></tr>\n",
       "</tbody>\n",
       "</table>\n"
      ],
      "text/latex": [
       "A lavaan.data.frame: 6 × 9\n",
       "\\begin{tabular}{lllllllll}\n",
       " lhs & op & rhs & est & se & z & pvalue & ci.lower & ci.upper\\\\\n",
       " <chr> & <chr> & <chr> & <dbl> & <dbl> & <dbl> & <dbl> & <dbl> & <dbl>\\\\\n",
       "\\hline\n",
       "\t sar         & \\textasciitilde{}  & log\\_n\\_sense & 0.3660270 & 0.020694811 & 17.686900 & 0.000000e+00 & 0.3254660 & 0.4065881\\\\\n",
       "\t sar         & \\textasciitilde{}  & log\\_CD      & 0.1966090 & 0.025267318 &  7.781157 & 7.105427e-15 & 0.1470859 & 0.2461320\\\\\n",
       "\t log\\_CD      & \\textasciitilde{}  & log\\_n\\_sense & 0.2633611 & 0.023899497 & 11.019524 & 0.000000e+00 & 0.2165189 & 0.3102032\\\\\n",
       "\t sar         & \\textasciitilde{}\\textasciitilde{} & sar         & 0.2139814 & 0.009325602 & 22.945588 & 0.000000e+00 & 0.1957036 & 0.2322593\\\\\n",
       "\t log\\_CD      & \\textasciitilde{}\\textasciitilde{} & log\\_CD      & 0.3182947 & 0.013871717 & 22.945588 & 0.000000e+00 & 0.2911066 & 0.3454828\\\\\n",
       "\t log\\_n\\_sense & \\textasciitilde{}\\textasciitilde{} & log\\_n\\_sense & 0.5292045 & 0.000000000 &        NA &           NA & 0.5292045 & 0.5292045\\\\\n",
       "\\end{tabular}\n"
      ],
      "text/markdown": [
       "\n",
       "A lavaan.data.frame: 6 × 9\n",
       "\n",
       "| lhs &lt;chr&gt; | op &lt;chr&gt; | rhs &lt;chr&gt; | est &lt;dbl&gt; | se &lt;dbl&gt; | z &lt;dbl&gt; | pvalue &lt;dbl&gt; | ci.lower &lt;dbl&gt; | ci.upper &lt;dbl&gt; |\n",
       "|---|---|---|---|---|---|---|---|---|\n",
       "| sar         | ~  | log_n_sense | 0.3660270 | 0.020694811 | 17.686900 | 0.000000e+00 | 0.3254660 | 0.4065881 |\n",
       "| sar         | ~  | log_CD      | 0.1966090 | 0.025267318 |  7.781157 | 7.105427e-15 | 0.1470859 | 0.2461320 |\n",
       "| log_CD      | ~  | log_n_sense | 0.2633611 | 0.023899497 | 11.019524 | 0.000000e+00 | 0.2165189 | 0.3102032 |\n",
       "| sar         | ~~ | sar         | 0.2139814 | 0.009325602 | 22.945588 | 0.000000e+00 | 0.1957036 | 0.2322593 |\n",
       "| log_CD      | ~~ | log_CD      | 0.3182947 | 0.013871717 | 22.945588 | 0.000000e+00 | 0.2911066 | 0.3454828 |\n",
       "| log_n_sense | ~~ | log_n_sense | 0.5292045 | 0.000000000 |        NA |           NA | 0.5292045 | 0.5292045 |\n",
       "\n"
      ],
      "text/plain": [
       "  lhs         op rhs         est       se          z         pvalue      \n",
       "1 sar         ~  log_n_sense 0.3660270 0.020694811 17.686900 0.000000e+00\n",
       "2 sar         ~  log_CD      0.1966090 0.025267318  7.781157 7.105427e-15\n",
       "3 log_CD      ~  log_n_sense 0.2633611 0.023899497 11.019524 0.000000e+00\n",
       "4 sar         ~~ sar         0.2139814 0.009325602 22.945588 0.000000e+00\n",
       "5 log_CD      ~~ log_CD      0.3182947 0.013871717 22.945588 0.000000e+00\n",
       "6 log_n_sense ~~ log_n_sense 0.5292045 0.000000000        NA           NA\n",
       "  ci.lower  ci.upper \n",
       "1 0.3254660 0.4065881\n",
       "2 0.1470859 0.2461320\n",
       "3 0.2165189 0.3102032\n",
       "4 0.1957036 0.2322593\n",
       "5 0.2911066 0.3454828\n",
       "6 0.5292045 0.5292045"
      ]
     },
     "metadata": {},
     "output_type": "display_data"
    }
   ],
   "source": [
    "model = '\n",
    "sar~log_n_sense+log_CD\n",
    "log_CD ~ log_n_sense\n",
    "'\n",
    "sem_fit = sem(model, naming, estimator=\"ML\")\n",
    "parameterEstimates(sem_fit)"
   ]
  },
  {
   "cell_type": "code",
   "execution_count": 42,
   "metadata": {},
   "outputs": [
    {
     "name": "stdout",
     "output_type": "stream",
     "text": [
      "      df    chisq      aic    rmsea     srmr      cfi      nfi \n",
      "   1.000  308.001 2892.055    0.540    0.155    0.722    0.722 \n",
      "lavaan 0.6-8 ended normally after 17 iterations\n",
      "\n",
      "  Estimator                                         ML\n",
      "  Optimization method                           NLMINB\n",
      "  Number of model parameters                         6\n",
      "                                                      \n",
      "  Number of observations                          1053\n",
      "                                                      \n",
      "Model Test User Model:\n",
      "                                                      \n",
      "  Test statistic                               308.001\n",
      "  Degrees of freedom                                 1\n",
      "  P-value (Chi-square)                           0.000\n",
      "\n",
      "Parameter Estimates:\n",
      "\n",
      "  Standard errors                             Standard\n",
      "  Information                                 Expected\n",
      "  Information saturated (h1) model          Structured\n",
      "\n",
      "Regressions:\n",
      "                   Estimate  Std.Err  z-value  P(>|z|)   Std.lv  Std.all\n",
      "  sar ~                                                                 \n",
      "    log_n_sense       0.278    0.020   14.168    0.000    0.278    0.356\n",
      "    log_CD           -0.030    0.022   -1.337    0.181   -0.030   -0.031\n",
      "    log_freq          0.156    0.008   20.199    0.000    0.156    0.485\n",
      "  log_CD ~                                                              \n",
      "    log_n_sense       0.263    0.024   11.020    0.000    0.263    0.322\n",
      "\n",
      "Variances:\n",
      "                   Estimate  Std.Err  z-value  P(>|z|)   Std.lv  Std.all\n",
      "   .sar               0.166    0.007   22.946    0.000    0.166    0.514\n",
      "   .log_CD            0.318    0.014   22.946    0.000    0.318    0.897\n",
      "\n"
     ]
    }
   ],
   "source": [
    "mf.0_model = '\n",
    "sar~log_n_sense+log_CD+log_freq\n",
    "log_CD ~ log_n_sense\n",
    "'\n",
    "mf.0 = sem(mf.0_model, naming, estimator=\"ML\")\n",
    "print(fitMeasures(mf.0, strsplit(\"df,chisq,AIC,RMSEA,SRMR,CFI,NFI\", \",\")[[1]]))\n",
    "summary(mf.0, std=T)"
   ]
  },
  {
   "cell_type": "code",
   "execution_count": 39,
   "metadata": {},
   "outputs": [
    {
     "name": "stdout",
     "output_type": "stream",
     "text": [
      "      df    chisq      aic    rmsea     srmr      cfi      nfi \n",
      "   2.000  259.377 6859.727    0.350    0.111    0.798    0.798 \n",
      "lavaan 0.6-8 ended normally after 20 iterations\n",
      "\n",
      "  Estimator                                         ML\n",
      "  Optimization method                           NLMINB\n",
      "  Number of model parameters                         7\n",
      "                                                      \n",
      "  Number of observations                          1053\n",
      "                                                      \n",
      "Model Test User Model:\n",
      "                                                      \n",
      "  Test statistic                               259.377\n",
      "  Degrees of freedom                                 2\n",
      "  P-value (Chi-square)                           0.000\n",
      "\n",
      "Parameter Estimates:\n",
      "\n",
      "  Standard errors                             Standard\n",
      "  Information                                 Expected\n",
      "  Information saturated (h1) model          Structured\n",
      "\n",
      "Regressions:\n",
      "                   Estimate  Std.Err  z-value  P(>|z|)   Std.lv  Std.all\n",
      "  sar ~                                                                 \n",
      "    log_n_sense       0.366    0.021   17.687    0.000    0.366    0.472\n",
      "    log_CD            0.197    0.025    7.781    0.000    0.197    0.208\n",
      "  log_CD ~                                                              \n",
      "    log_n_sense       0.263    0.024   11.020    0.000    0.263    0.322\n",
      "  log_freq ~                                                            \n",
      "    sar               1.909    0.076   24.962    0.000    1.909    0.610\n",
      "\n",
      "Covariances:\n",
      "                   Estimate  Std.Err  z-value  P(>|z|)   Std.lv  Std.all\n",
      " .log_CD ~~                                                             \n",
      "   .log_freq          0.000                               0.000    0.000\n",
      "\n",
      "Variances:\n",
      "                   Estimate  Std.Err  z-value  P(>|z|)   Std.lv  Std.all\n",
      "   .sar               0.214    0.009   22.946    0.000    0.214    0.671\n",
      "   .log_CD            0.318    0.014   22.946    0.000    0.318    0.897\n",
      "   .log_freq          1.962    0.086   22.946    0.000    1.962    0.628\n",
      "\n"
     ]
    }
   ],
   "source": [
    "mf.1_model = '\n",
    "sar~log_n_sense+log_CD\n",
    "log_CD ~ log_n_sense\n",
    "log_freq~sar\n",
    "'\n",
    "mf.1 = sem(mf.1_model, naming, estimator=\"ML\")\n",
    "print(fitMeasures(mf.1, strsplit(\"df,chisq,AIC,RMSEA,SRMR,CFI,NFI\", \",\")[[1]]))\n",
    "summary(mf.1, std=T)"
   ]
  },
  {
   "cell_type": "code",
   "execution_count": 78,
   "metadata": {},
   "outputs": [
    {
     "name": "stdout",
     "output_type": "stream",
     "text": [
      "      df    chisq      aic    rmsea     srmr      cfi      nfi \n",
      "   3.000    7.156 3226.490    0.036    0.011    0.997    0.995 \n",
      "lavaan 0.6-8 ended normally after 34 iterations\n",
      "\n",
      "  Estimator                                         ML\n",
      "  Optimization method                           NLMINB\n",
      "  Number of model parameters                        12\n",
      "                                                      \n",
      "  Number of observations                          1053\n",
      "                                                      \n",
      "Model Test User Model:\n",
      "                                                      \n",
      "  Test statistic                                 7.156\n",
      "  Degrees of freedom                                 3\n",
      "  P-value (Chi-square)                           0.067\n",
      "\n",
      "Parameter Estimates:\n",
      "\n",
      "  Standard errors                             Standard\n",
      "  Information                                 Expected\n",
      "  Information saturated (h1) model          Structured\n",
      "\n",
      "Regressions:\n",
      "                   Estimate  Std.Err  z-value  P(>|z|)   Std.lv  Std.all\n",
      "  RTinv ~                                                               \n",
      "    log_freq         -0.018    0.003   -7.228    0.000   -0.018   -0.262\n",
      "    sar              -0.012    0.009   -1.403    0.161   -0.012   -0.055\n",
      "    log_n_sense      -0.015    0.008   -1.845    0.065   -0.015   -0.087\n",
      "    rEV              -0.028    0.013   -2.080    0.038   -0.028   -0.096\n",
      "  log_freq ~                                                            \n",
      "    sar               1.463    0.072   20.189    0.000    1.463    0.467\n",
      "    log_CD            1.176    0.069   17.137    0.000    1.176    0.397\n",
      "  sar ~                                                                 \n",
      "    log_CD            0.189    0.028    6.743    0.000    0.189    0.200\n",
      "    log_n_sense       0.351    0.031   11.156    0.000    0.351    0.453\n",
      "    rEV               0.037    0.060    0.616    0.538    0.037    0.028\n",
      "\n",
      "Variances:\n",
      "                   Estimate  Std.Err  z-value  P(>|z|)   Std.lv  Std.all\n",
      "   .RTinv             0.013    0.001   22.946    0.000    0.013    0.832\n",
      "   .log_freq          1.534    0.067   22.946    0.000    1.534    0.491\n",
      "   .sar               0.214    0.009   22.946    0.000    0.214    0.671\n",
      "\n"
     ]
    }
   ],
   "source": [
    "model_spec = '\n",
    "RTinv ~ log_freq+sar+log_n_sense+rEV\n",
    "log_freq ~ sar + log_CD\n",
    "sar ~ log_CD + log_n_sense+rEV\n",
    "'\n",
    "mr.1 <- fit <- sem(model_spec, naming, estimator=\"ML\")\n",
    "print(fitMeasures(fit, strsplit(\"df,chisq,AIC,RMSEA,SRMR,CFI,NFI\", \",\")[[1]]))\n",
    "summary(fit, std=T)"
   ]
  },
  {
   "cell_type": "code",
   "execution_count": 86,
   "metadata": {},
   "outputs": [
    {
     "data": {
      "image/png": "[encoded data removed]",
      "text/plain": [
       "plot without title"
      ]
     },
     "metadata": {
      "image/png": {
       "height": 600,
       "width": 600
      }
     },
     "output_type": "display_data"
    }
   ],
   "source": [
    "require(semPlot)\n",
    "popt(6,6)\n",
    "semPaths(mr.1, \"std\", edge.label.cex=1, nCharNodes=5)"
   ]
  },
  {
   "cell_type": "code",
   "execution_count": 89,
   "metadata": {},
   "outputs": [
    {
     "name": "stdout",
     "output_type": "stream",
     "text": [
      "      df    chisq      aic    rmsea     srmr      cfi      nfi \n",
      "   4.000   16.054 3217.793    0.053    0.010    0.991    0.988 \n",
      "lavaan 0.6-8 ended normally after 40 iterations\n",
      "\n",
      "  Estimator                                         ML\n",
      "  Optimization method                           NLMINB\n",
      "  Number of model parameters                        14\n",
      "                                                      \n",
      "  Number of observations                          1053\n",
      "                                                      \n",
      "Model Test User Model:\n",
      "                                                      \n",
      "  Test statistic                                16.054\n",
      "  Degrees of freedom                                 4\n",
      "  P-value (Chi-square)                           0.003\n",
      "\n",
      "Parameter Estimates:\n",
      "\n",
      "  Standard errors                             Standard\n",
      "  Information                                 Expected\n",
      "  Information saturated (h1) model          Structured\n",
      "\n",
      "Regressions:\n",
      "                   Estimate  Std.Err  z-value  P(>|z|)   Std.lv  Std.all\n",
      "  RTinv ~                                                               \n",
      "    log_freq         -0.018    0.003   -7.215    0.000   -0.018   -0.262\n",
      "    sar              -0.012    0.009   -1.385    0.166   -0.012   -0.054\n",
      "    log_n_sense      -0.015    0.008   -1.825    0.068   -0.015   -0.086\n",
      "    rEV              -0.024    0.023   -1.059    0.290   -0.024   -0.083\n",
      "    mw_weightD       -0.000    0.002   -0.199    0.842   -0.000   -0.015\n",
      "  log_freq ~                                                            \n",
      "    sar               1.463    0.072   20.189    0.000    1.463    0.467\n",
      "    log_CD            1.176    0.069   17.137    0.000    1.176    0.397\n",
      "  sar ~                                                                 \n",
      "    log_CD            0.193    0.028    6.931    0.000    0.193    0.204\n",
      "    log_n_sense       0.340    0.031   10.801    0.000    0.340    0.438\n",
      "    rEV              -0.237    0.097   -2.449    0.014   -0.237   -0.178\n",
      "    mw_weightD        0.033    0.009    3.568    0.000    0.033    0.233\n",
      "\n",
      "Variances:\n",
      "                   Estimate  Std.Err  z-value  P(>|z|)   Std.lv  Std.all\n",
      "   .RTinv             0.013    0.001   22.946    0.000    0.013    0.832\n",
      "   .log_freq          1.534    0.067   22.946    0.000    1.534    0.491\n",
      "   .sar               0.211    0.009   22.946    0.000    0.211    0.663\n",
      "\n"
     ]
    }
   ],
   "source": [
    "model_spec = '\n",
    "RTinv ~ log_freq+sar+log_n_sense+rEV+mw_weightD\n",
    "log_freq ~ sar + log_CD\n",
    "sar ~ log_CD + log_n_sense+rEV+mw_weightD\n",
    "'\n",
    "mr.2 <- fit <- sem(model_spec, naming, estimator=\"ML\")\n",
    "print(fitMeasures(fit, strsplit(\"df,chisq,AIC,RMSEA,SRMR,CFI,NFI\", \",\")[[1]]))\n",
    "summary(fit, std=T)"
   ]
  },
  {
   "cell_type": "code",
   "execution_count": 133,
   "metadata": {},
   "outputs": [
    {
     "name": "stdout",
     "output_type": "stream",
     "text": [
      "      df    chisq      aic    rmsea     srmr      cfi      nfi \n",
      "   5.000   36.922 3236.661    0.078    0.039    0.977    0.973 \n",
      "lavaan 0.6-8 ended normally after 41 iterations\n",
      "\n",
      "  Estimator                                         ML\n",
      "  Optimization method                           NLMINB\n",
      "  Number of model parameters                        13\n",
      "                                                      \n",
      "  Number of observations                          1053\n",
      "                                                      \n",
      "Model Test User Model:\n",
      "                                                      \n",
      "  Test statistic                                36.922\n",
      "  Degrees of freedom                                 5\n",
      "  P-value (Chi-square)                           0.000\n",
      "\n",
      "Parameter Estimates:\n",
      "\n",
      "  Standard errors                             Standard\n",
      "  Information                                 Expected\n",
      "  Information saturated (h1) model          Structured\n",
      "\n",
      "Regressions:\n",
      "                   Estimate  Std.Err  z-value  P(>|z|)   Std.lv  Std.all\n",
      "  RTinv ~                                                               \n",
      "    log_freq         -0.020    0.003   -8.072    0.000   -0.020   -0.289\n",
      "    sar              -0.029    0.008   -3.656    0.000   -0.029   -0.131\n",
      "  log_freq ~                                                            \n",
      "    sar               1.415    0.082   17.178    0.000    1.415    0.453\n",
      "    log_n_sense       0.103    0.088    1.167    0.243    0.103    0.042\n",
      "    log_CD            1.227    0.076   16.110    0.000    1.227    0.414\n",
      "    rEV              -0.821    0.260   -3.160    0.002   -0.821   -0.197\n",
      "    mw_weightD        0.073    0.024    2.980    0.003    0.073    0.167\n",
      "  sar ~                                                                 \n",
      "    log_CD            0.173    0.027    6.478    0.000    0.173    0.183\n",
      "    log_n_sense       0.311    0.029   10.634    0.000    0.311    0.401\n",
      "    mw_weightD        0.015    0.006    2.661    0.008    0.015    0.106\n",
      "\n",
      "Variances:\n",
      "                   Estimate  Std.Err  z-value  P(>|z|)   Std.lv  Std.all\n",
      "   .RTinv             0.013    0.001   22.946    0.000    0.013    0.853\n",
      "   .log_freq          1.519    0.066   22.946    0.000    1.519    0.488\n",
      "   .sar               0.213    0.009   22.946    0.000    0.213    0.667\n",
      "\n"
     ]
    }
   ],
   "source": [
    "model_spec = '\n",
    "RTinv ~ log_freq + sar\n",
    "log_freq ~ sar + log_n_sense + log_CD + rEV + mw_weightD\n",
    "sar ~ log_CD + log_n_sense + mw_weightD\n",
    "'\n",
    "mr.3 <- fit <- sem(model_spec, naming, estimator=\"ML\")\n",
    "print(fitMeasures(fit, strsplit(\"df,chisq,AIC,RMSEA,SRMR,CFI,NFI\", \",\")[[1]]))\n",
    "summary(fit, std=T)"
   ]
  },
  {
   "cell_type": "code",
   "execution_count": 117,
   "metadata": {},
   "outputs": [
    {
     "data": {
      "image/png": "[encoded data removed]",
      "text/plain": [
       "plot without title"
      ]
     },
     "metadata": {
      "image/png": {
       "height": 500,
       "width": 1000
      }
     },
     "output_type": "display_data"
    }
   ],
   "source": [
    "popt(10,5)\n",
    "semPaths(mr.3, \"std\", edge.label.cex=1)"
   ]
  },
  {
   "cell_type": "code",
   "execution_count": 136,
   "metadata": {},
   "outputs": [
    {
     "name": "stdout",
     "output_type": "stream",
     "text": [
      "           lhs op         rhs     mi    epc sepc.lv sepc.all sepc.nox\n",
      "25       RTinv ~~         sar 29.509  0.016   0.016    0.302    0.302\n",
      "32         sar  ~       RTinv 28.458  1.192   1.192    0.262    0.262\n",
      "29       RTinv  ~         rEV 22.620 -0.047  -0.047   -0.159   -0.376\n",
      "27       RTinv  ~ log_n_sense 21.077 -0.027  -0.027   -0.156   -0.214\n",
      "30       RTinv  ~  mw_weightD 18.926 -0.004  -0.004   -0.144   -0.036\n",
      "24       RTinv ~~    log_freq 12.430  0.032   0.032    0.228    0.228\n",
      "31    log_freq  ~       RTinv 12.430  2.450   2.450    0.172    0.172\n",
      "28       RTinv  ~      log_CD 12.037 -0.025  -0.025   -0.120   -0.201\n",
      "34         sar  ~         rEV  5.965 -0.237  -0.237   -0.178   -0.421\n",
      "33         sar  ~    log_freq  5.965  0.289   0.289    0.904    0.904\n",
      "55  mw_weightD  ~         sar  2.654  0.143   0.143    0.020    0.020\n",
      "49         rEV  ~         sar  2.654 -0.011  -0.011   -0.014   -0.014\n",
      "37 log_n_sense  ~         sar  2.654  0.087   0.087    0.067    0.067\n",
      "43      log_CD  ~         sar  2.654  0.123   0.123    0.117    0.117\n",
      "35 log_n_sense  ~       RTinv  2.250 -0.185  -0.185   -0.032   -0.032\n",
      "41      log_CD  ~       RTinv  1.945 -0.210  -0.210   -0.044   -0.044\n",
      "48         rEV  ~    log_freq  1.479 -0.004  -0.004   -0.017   -0.017\n",
      "54  mw_weightD  ~    log_freq  1.462  0.055   0.055    0.024    0.024\n",
      "42      log_CD  ~    log_freq  1.320  0.043   0.043    0.128    0.128\n",
      "36 log_n_sense  ~    log_freq  1.282  0.030   0.030    0.072    0.072\n",
      "53  mw_weightD  ~       RTinv  0.137 -0.148  -0.148   -0.005   -0.005\n",
      "47         rEV  ~       RTinv  0.010 -0.004  -0.004   -0.001   -0.001\n",
      "22         rEV ~~  mw_weightD  0.000  0.000   0.000       NA    0.000\n",
      "23  mw_weightD ~~  mw_weightD  0.000  0.000   0.000    0.000    0.000\n",
      "45      log_CD  ~         rEV  0.000  0.000   0.000    0.000    0.000\n",
      "46      log_CD  ~  mw_weightD  0.000  0.000   0.000    0.000    0.000\n",
      "18      log_CD ~~      log_CD  0.000  0.000   0.000    0.000    0.000\n",
      "44      log_CD  ~ log_n_sense  0.000  0.000   0.000    0.000    0.000\n",
      "20      log_CD ~~  mw_weightD  0.000  0.000   0.000       NA    0.000\n",
      "39 log_n_sense  ~         rEV  0.000  0.000   0.000    0.000    0.000\n",
      "52         rEV  ~  mw_weightD  0.000  0.000   0.000    0.000    0.000\n",
      "51         rEV  ~      log_CD  0.000  0.000   0.000    0.000    0.000\n",
      "19      log_CD ~~         rEV  0.000  0.000   0.000       NA    0.000\n",
      "40 log_n_sense  ~  mw_weightD  0.000  0.000   0.000    0.000    0.000\n",
      "57  mw_weightD  ~      log_CD  0.000  0.000   0.000    0.000    0.000\n",
      "38 log_n_sense  ~      log_CD  0.000  0.000   0.000    0.000    0.000\n",
      "56  mw_weightD  ~ log_n_sense  0.000  0.000   0.000    0.000    0.000\n",
      "50         rEV  ~ log_n_sense  0.000  0.000   0.000    0.000    0.000\n",
      "58  mw_weightD  ~         rEV  0.000  0.000   0.000    0.000    0.000\n",
      "14 log_n_sense ~~ log_n_sense  0.000  0.000   0.000    0.000    0.000\n",
      "17 log_n_sense ~~  mw_weightD  0.000  0.000   0.000       NA    0.000\n",
      "15 log_n_sense ~~      log_CD  0.000  0.000   0.000       NA    0.000\n",
      "16 log_n_sense ~~         rEV  0.000  0.000   0.000       NA    0.000\n"
     ]
    }
   ],
   "source": [
    "print(modindices(mr.3, sort=T))"
   ]
  },
  {
   "cell_type": "code",
   "execution_count": 167,
   "metadata": {},
   "outputs": [
    {
     "name": "stdout",
     "output_type": "stream",
     "text": [
      "      df    chisq      aic    rmsea     srmr      cfi      nfi \n",
      "   5.000   12.582 3222.270    0.038    0.018    0.994    0.991 \n",
      "lavaan 0.6-8 ended normally after 32 iterations\n",
      "\n",
      "  Estimator                                         ML\n",
      "  Optimization method                           NLMINB\n",
      "  Number of model parameters                        10\n",
      "                                                      \n",
      "  Number of observations                          1053\n",
      "                                                      \n",
      "Model Test User Model:\n",
      "                                                      \n",
      "  Test statistic                                12.582\n",
      "  Degrees of freedom                                 5\n",
      "  P-value (Chi-square)                           0.028\n",
      "\n",
      "Parameter Estimates:\n",
      "\n",
      "  Standard errors                             Standard\n",
      "  Information                                 Expected\n",
      "  Information saturated (h1) model          Structured\n",
      "\n",
      "Regressions:\n",
      "                   Estimate  Std.Err  z-value  P(>|z|)   Std.lv  Std.all\n",
      "  RTinv ~                                                               \n",
      "    log_freq         -0.021    0.002   -9.873    0.000   -0.021   -0.301\n",
      "    log_n_sense      -0.030    0.005   -5.763    0.000   -0.030   -0.176\n",
      "  log_freq ~                                                            \n",
      "    sar               1.463    0.072   20.189    0.000    1.463    0.467\n",
      "    log_CD            1.176    0.069   17.137    0.000    1.176    0.397\n",
      "  sar ~                                                                 \n",
      "    log_CD            0.173    0.027    6.478    0.000    0.173    0.183\n",
      "    log_n_sense       0.311    0.029   10.634    0.000    0.311    0.401\n",
      "    mw_weightD        0.015    0.006    2.661    0.008    0.015    0.106\n",
      "\n",
      "Variances:\n",
      "                   Estimate  Std.Err  z-value  P(>|z|)   Std.lv  Std.all\n",
      "   .RTinv             0.013    0.001   22.946    0.000    0.013    0.838\n",
      "   .log_freq          1.534    0.067   22.946    0.000    1.534    0.491\n",
      "   .sar               0.213    0.009   22.946    0.000    0.213    0.667\n",
      "\n"
     ]
    }
   ],
   "source": [
    "model_spec = '\n",
    "RTinv ~ log_freq + log_n_sense \n",
    "log_freq ~ sar + log_CD \n",
    "sar ~ log_CD + log_n_sense + mw_weightD\n",
    "'\n",
    "mr.4 <- fit <- sem(model_spec, naming, estimator=\"ML\")\n",
    "print(fitMeasures(fit, strsplit(\"df,chisq,AIC,RMSEA,SRMR,CFI,NFI\", \",\")[[1]]))\n",
    "summary(fit, std=T)"
   ]
  },
  {
   "cell_type": "code",
   "execution_count": 144,
   "metadata": {},
   "outputs": [],
   "source": [
    "cf = cforest(sar~log_n_sense+rEV+mw_weightD, sa, mtry=2, ntree=100)"
   ]
  },
  {
   "cell_type": "code",
   "execution_count": 19,
   "metadata": {},
   "outputs": [],
   "source": [
    "preds = predict(cf, newdata=sa, \"response\")"
   ]
  },
  {
   "cell_type": "code",
   "execution_count": 130,
   "metadata": {},
   "outputs": [],
   "source": [
    "cf.imp = varimp(cf)"
   ]
  },
  {
   "cell_type": "code",
   "execution_count": 131,
   "metadata": {},
   "outputs": [
    {
     "data": {
      "text/html": [
       "<style>\n",
       ".dl-inline {width: auto; margin:0; padding: 0}\n",
       ".dl-inline>dt, .dl-inline>dd {float: none; width: auto; display: inline-block}\n",
       ".dl-inline>dt::after {content: \":\\0020\"; padding-right: .5ex}\n",
       ".dl-inline>dt:not(:first-of-type) {padding-left: .5ex}\n",
       "</style><dl class=dl-inline><dt>log_n_sense</dt><dd>0.0501301368282221</dd><dt>rEV</dt><dd>0.0103579144426466</dd><dt>mw_weightD</dt><dd>0.0312626392671575</dd></dl>\n"
      ],
      "text/latex": [
       "\\begin{description*}\n",
       "\\item[log\\textbackslash{}\\_n\\textbackslash{}\\_sense] 0.0501301368282221\n",
       "\\item[rEV] 0.0103579144426466\n",
       "\\item[mw\\textbackslash{}\\_weightD] 0.0312626392671575\n",
       "\\end{description*}\n"
      ],
      "text/markdown": [
       "log_n_sense\n",
       ":   0.0501301368282221rEV\n",
       ":   0.0103579144426466mw_weightD\n",
       ":   0.0312626392671575\n",
       "\n"
      ],
      "text/plain": [
       "log_n_sense         rEV  mw_weightD \n",
       " 0.05013014  0.01035791  0.03126264 "
      ]
     },
     "metadata": {},
     "output_type": "display_data"
    }
   ],
   "source": [
    "cf.imp"
   ]
  },
  {
   "cell_type": "code",
   "execution_count": 32,
   "metadata": {},
   "outputs": [
    {
     "data": {
      "text/html": [
       "<style>\n",
       ".list-inline {list-style: none; margin:0; padding: 0}\n",
       ".list-inline>li {display: inline-block}\n",
       ".list-inline>li:not(:last-child)::after {content: \"\\00b7\"; padding: 0 .5ex}\n",
       "</style>\n",
       "<ol class=list-inline><li>'constparty'</li><li>'party'</li></ol>\n"
      ],
      "text/latex": [
       "\\begin{enumerate*}\n",
       "\\item 'constparty'\n",
       "\\item 'party'\n",
       "\\end{enumerate*}\n"
      ],
      "text/markdown": [
       "1. 'constparty'\n",
       "2. 'party'\n",
       "\n",
       "\n"
      ],
      "text/plain": [
       "[1] \"constparty\" \"party\"     "
      ]
     },
     "metadata": {},
     "output_type": "display_data"
    }
   ],
   "source": [
    "class(ct)"
   ]
  },
  {
   "cell_type": "code",
   "execution_count": 42,
   "metadata": {},
   "outputs": [
    {
     "data": {
      "text/html": [
       "212"
      ],
      "text/latex": [
       "212"
      ],
      "text/markdown": [
       "212"
      ],
      "text/plain": [
       "[1] 212"
      ]
     },
     "metadata": {},
     "output_type": "display_data"
    }
   ],
   "source": [
    "length(predict(ct, newdata=sa[3:4,], FUN=function(y, w) list(y,w))[[2]][[1]])"
   ]
  },
  {
   "cell_type": "code",
   "execution_count": 29,
   "metadata": {},
   "outputs": [
    {
     "data": {
      "text/html": [
       "<table class=\"dataframe\">\n",
       "<caption>A matrix: 4 × 8 of type dbl</caption>\n",
       "<thead>\n",
       "\t<tr><th></th><th scope=col>log_freq</th><th scope=col>sar</th><th scope=col>log_n_sense</th><th scope=col>sfreq_ent_norm</th><th scope=col>mw_weightD</th><th scope=col>rEV</th><th scope=col>SemD</th><th scope=col>SemVar</th></tr>\n",
       "</thead>\n",
       "<tbody>\n",
       "\t<tr><th scope=row>skew (g1)</th><td>-3.557476e-01</td><td>5.932121e-01</td><td>0.3119347064</td><td>-0.15231167</td><td>-0.21122755</td><td>4.113684e-01</td><td> -1.04718317</td><td>-4.154130e-01</td></tr>\n",
       "\t<tr><th scope=row>se</th><td> 8.441499e-02</td><td>8.441499e-02</td><td>0.0844149912</td><td> 0.08441499</td><td> 0.08441499</td><td>8.441499e-02</td><td>  0.08441499</td><td> 8.441499e-02</td></tr>\n",
       "\t<tr><th scope=row>z</th><td>-4.214271e+00</td><td>7.027331e+00</td><td>3.6952524899</td><td>-1.80432018</td><td>-2.50225166</td><td>4.873168e+00</td><td>-12.40518017</td><td>-4.921081e+00</td></tr>\n",
       "\t<tr><th scope=row>p</th><td> 2.505868e-05</td><td>2.105205e-12</td><td>0.0002196684</td><td> 0.07118113</td><td> 0.01234062</td><td>1.098228e-06</td><td>  0.00000000</td><td> 8.606738e-07</td></tr>\n",
       "</tbody>\n",
       "</table>\n"
      ],
      "text/latex": [
       "A matrix: 4 × 8 of type dbl\n",
       "\\begin{tabular}{r|llllllll}\n",
       "  & log\\_freq & sar & log\\_n\\_sense & sfreq\\_ent\\_norm & mw\\_weightD & rEV & SemD & SemVar\\\\\n",
       "\\hline\n",
       "\tskew (g1) & -3.557476e-01 & 5.932121e-01 & 0.3119347064 & -0.15231167 & -0.21122755 & 4.113684e-01 &  -1.04718317 & -4.154130e-01\\\\\n",
       "\tse &  8.441499e-02 & 8.441499e-02 & 0.0844149912 &  0.08441499 &  0.08441499 & 8.441499e-02 &   0.08441499 &  8.441499e-02\\\\\n",
       "\tz & -4.214271e+00 & 7.027331e+00 & 3.6952524899 & -1.80432018 & -2.50225166 & 4.873168e+00 & -12.40518017 & -4.921081e+00\\\\\n",
       "\tp &  2.505868e-05 & 2.105205e-12 & 0.0002196684 &  0.07118113 &  0.01234062 & 1.098228e-06 &   0.00000000 &  8.606738e-07\\\\\n",
       "\\end{tabular}\n"
      ],
      "text/markdown": [
       "\n",
       "A matrix: 4 × 8 of type dbl\n",
       "\n",
       "| <!--/--> | log_freq | sar | log_n_sense | sfreq_ent_norm | mw_weightD | rEV | SemD | SemVar |\n",
       "|---|---|---|---|---|---|---|---|---|\n",
       "| skew (g1) | -3.557476e-01 | 5.932121e-01 | 0.3119347064 | -0.15231167 | -0.21122755 | 4.113684e-01 |  -1.04718317 | -4.154130e-01 |\n",
       "| se |  8.441499e-02 | 8.441499e-02 | 0.0844149912 |  0.08441499 |  0.08441499 | 8.441499e-02 |   0.08441499 |  8.441499e-02 |\n",
       "| z | -4.214271e+00 | 7.027331e+00 | 3.6952524899 | -1.80432018 | -2.50225166 | 4.873168e+00 | -12.40518017 | -4.921081e+00 |\n",
       "| p |  2.505868e-05 | 2.105205e-12 | 0.0002196684 |  0.07118113 |  0.01234062 | 1.098228e-06 |   0.00000000 |  8.606738e-07 |\n",
       "\n"
      ],
      "text/plain": [
       "          log_freq      sar          log_n_sense  sfreq_ent_norm mw_weightD \n",
       "skew (g1) -3.557476e-01 5.932121e-01 0.3119347064 -0.15231167    -0.21122755\n",
       "se         8.441499e-02 8.441499e-02 0.0844149912  0.08441499     0.08441499\n",
       "z         -4.214271e+00 7.027331e+00 3.6952524899 -1.80432018    -2.50225166\n",
       "p          2.505868e-05 2.105205e-12 0.0002196684  0.07118113     0.01234062\n",
       "          rEV          SemD         SemVar       \n",
       "skew (g1) 4.113684e-01  -1.04718317 -4.154130e-01\n",
       "se        8.441499e-02   0.08441499  8.441499e-02\n",
       "z         4.873168e+00 -12.40518017 -4.921081e+00\n",
       "p         1.098228e-06   0.00000000  8.606738e-07"
      ]
     },
     "metadata": {},
     "output_type": "display_data"
    }
   ],
   "source": [
    "apply(sa, 2, skew)"
   ]
  },
  {
   "cell_type": "code",
   "execution_count": 30,
   "metadata": {},
   "outputs": [
    {
     "data": {
      "text/html": [
       "<table class=\"dataframe\">\n",
       "<caption>A matrix: 4 × 8 of type dbl</caption>\n",
       "<thead>\n",
       "\t<tr><th></th><th scope=col>log_freq</th><th scope=col>sar</th><th scope=col>log_n_sense</th><th scope=col>sfreq_ent_norm</th><th scope=col>mw_weightD</th><th scope=col>rEV</th><th scope=col>SemD</th><th scope=col>SemVar</th></tr>\n",
       "</thead>\n",
       "<tbody>\n",
       "\t<tr><th scope=row>Excess Kur (g2)</th><td>-0.008691455</td><td>0.2771736</td><td>6.849290e-01</td><td>-0.467548357</td><td>-8.246496e-01</td><td>0.0410919</td><td> 2.841763</td><td>-0.554559351</td></tr>\n",
       "\t<tr><th scope=row>se</th><td> 0.168829982</td><td>0.1688300</td><td>1.688300e-01</td><td> 0.168829982</td><td> 1.688300e-01</td><td>0.1688300</td><td> 0.168830</td><td> 0.168829982</td></tr>\n",
       "\t<tr><th scope=row>z</th><td>-0.051480516</td><td>1.6417318</td><td>4.056916e+00</td><td>-2.769344347</td><td>-4.884497e+00</td><td>0.2433922</td><td>16.832098</td><td>-3.284720779</td></tr>\n",
       "\t<tr><th scope=row>p</th><td> 0.958942627</td><td>0.1006456</td><td>4.972504e-05</td><td> 0.005616924</td><td> 1.036931e-06</td><td>0.8077016</td><td> 0.000000</td><td> 0.001020835</td></tr>\n",
       "</tbody>\n",
       "</table>\n"
      ],
      "text/latex": [
       "A matrix: 4 × 8 of type dbl\n",
       "\\begin{tabular}{r|llllllll}\n",
       "  & log\\_freq & sar & log\\_n\\_sense & sfreq\\_ent\\_norm & mw\\_weightD & rEV & SemD & SemVar\\\\\n",
       "\\hline\n",
       "\tExcess Kur (g2) & -0.008691455 & 0.2771736 & 6.849290e-01 & -0.467548357 & -8.246496e-01 & 0.0410919 &  2.841763 & -0.554559351\\\\\n",
       "\tse &  0.168829982 & 0.1688300 & 1.688300e-01 &  0.168829982 &  1.688300e-01 & 0.1688300 &  0.168830 &  0.168829982\\\\\n",
       "\tz & -0.051480516 & 1.6417318 & 4.056916e+00 & -2.769344347 & -4.884497e+00 & 0.2433922 & 16.832098 & -3.284720779\\\\\n",
       "\tp &  0.958942627 & 0.1006456 & 4.972504e-05 &  0.005616924 &  1.036931e-06 & 0.8077016 &  0.000000 &  0.001020835\\\\\n",
       "\\end{tabular}\n"
      ],
      "text/markdown": [
       "\n",
       "A matrix: 4 × 8 of type dbl\n",
       "\n",
       "| <!--/--> | log_freq | sar | log_n_sense | sfreq_ent_norm | mw_weightD | rEV | SemD | SemVar |\n",
       "|---|---|---|---|---|---|---|---|---|\n",
       "| Excess Kur (g2) | -0.008691455 | 0.2771736 | 6.849290e-01 | -0.467548357 | -8.246496e-01 | 0.0410919 |  2.841763 | -0.554559351 |\n",
       "| se |  0.168829982 | 0.1688300 | 1.688300e-01 |  0.168829982 |  1.688300e-01 | 0.1688300 |  0.168830 |  0.168829982 |\n",
       "| z | -0.051480516 | 1.6417318 | 4.056916e+00 | -2.769344347 | -4.884497e+00 | 0.2433922 | 16.832098 | -3.284720779 |\n",
       "| p |  0.958942627 | 0.1006456 | 4.972504e-05 |  0.005616924 |  1.036931e-06 | 0.8077016 |  0.000000 |  0.001020835 |\n",
       "\n"
      ],
      "text/plain": [
       "                log_freq     sar       log_n_sense  sfreq_ent_norm\n",
       "Excess Kur (g2) -0.008691455 0.2771736 6.849290e-01 -0.467548357  \n",
       "se               0.168829982 0.1688300 1.688300e-01  0.168829982  \n",
       "z               -0.051480516 1.6417318 4.056916e+00 -2.769344347  \n",
       "p                0.958942627 0.1006456 4.972504e-05  0.005616924  \n",
       "                mw_weightD    rEV       SemD      SemVar      \n",
       "Excess Kur (g2) -8.246496e-01 0.0410919  2.841763 -0.554559351\n",
       "se               1.688300e-01 0.1688300  0.168830  0.168829982\n",
       "z               -4.884497e+00 0.2433922 16.832098 -3.284720779\n",
       "p                1.036931e-06 0.8077016  0.000000  0.001020835"
      ]
     },
     "metadata": {},
     "output_type": "display_data"
    }
   ],
   "source": [
    "apply(sa, 2, kurtosis)"
   ]
  },
  {
   "cell_type": "code",
   "execution_count": 8,
   "metadata": {},
   "outputs": [],
   "source": [
    "model = '\n",
    "sar~log_n_sense\n",
    "'"
   ]
  },
  {
   "cell_type": "code",
   "execution_count": 9,
   "metadata": {},
   "outputs": [],
   "source": [
    "sem_fit = sem(model, naming, estimator=\"ML\")"
   ]
  },
  {
   "cell_type": "code",
   "execution_count": 10,
   "metadata": {},
   "outputs": [
    {
     "name": "stdout",
     "output_type": "stream",
     "text": [
      "lavaan 0.6-8 ended normally after 11 iterations\n",
      "\n",
      "  Estimator                                         ML\n",
      "  Optimization method                           NLMINB\n",
      "  Number of model parameters                         2\n",
      "                                                      \n",
      "  Number of observations                          1053\n",
      "                                                      \n",
      "Model Test User Model:\n",
      "                                                      \n",
      "  Test statistic                                 0.000\n",
      "  Degrees of freedom                                 0\n",
      "\n",
      "Parameter Estimates:\n",
      "\n",
      "  Standard errors                             Standard\n",
      "  Information                                 Expected\n",
      "  Information saturated (h1) model          Structured\n",
      "\n",
      "Regressions:\n",
      "                   Estimate  Std.Err  z-value  P(>|z|)\n",
      "  sar ~                                               \n",
      "    log_n_sense       0.418    0.020   20.734    0.000\n",
      "\n",
      "Variances:\n",
      "                   Estimate  Std.Err  z-value  P(>|z|)\n",
      "   .sar               0.226    0.010   22.946    0.000\n",
      "\n"
     ]
    }
   ],
   "source": [
    "summary(sem_fit)"
   ]
  },
  {
   "cell_type": "code",
   "execution_count": 12,
   "metadata": {},
   "outputs": [
    {
     "data": {
      "text/plain": [
       "\n",
       "Call:\n",
       "lm(formula = sar ~ log_n_sense, data = naming)\n",
       "\n",
       "Residuals:\n",
       "     Min       1Q   Median       3Q      Max \n",
       "-1.28299 -0.34454 -0.03934  0.28636  1.88802 \n",
       "\n",
       "Coefficients:\n",
       "            Estimate Std. Error t value Pr(>|t|)    \n",
       "(Intercept)  1.28824    0.03526   36.53   <2e-16 ***\n",
       "log_n_sense  0.41781    0.02017   20.71   <2e-16 ***\n",
       "---\n",
       "Signif. codes:  0 '***' 0.001 '**' 0.01 '*' 0.05 '.' 0.1 ' ' 1\n",
       "\n",
       "Residual standard error: 0.4761 on 1051 degrees of freedom\n",
       "Multiple R-squared:  0.2899,\tAdjusted R-squared:  0.2892 \n",
       "F-statistic: 429.1 on 1 and 1051 DF,  p-value: < 2.2e-16\n"
      ]
     },
     "metadata": {},
     "output_type": "display_data"
    }
   ],
   "source": [
    "summary(lm(sar~log_n_sense, data=naming))"
   ]
  },
  {
   "cell_type": "code",
   "execution_count": 201,
   "metadata": {},
   "outputs": [
    {
     "data": {
      "text/html": [
       "<style>\n",
       ".dl-inline {width: auto; margin:0; padding: 0}\n",
       ".dl-inline>dt, .dl-inline>dd {float: none; width: auto; display: inline-block}\n",
       ".dl-inline>dt::after {content: \":\\0020\"; padding-right: .5ex}\n",
       ".dl-inline>dt:not(:first-of-type) {padding-left: .5ex}\n",
       "</style><dl class=dl-inline><dt>rmsea</dt><dd>0.107343876445478</dd><dt>nfi</dt><dd>0.965075683852945</dd><dt>nnfi</dt><dd>0.935124727760308</dd><dt>cfi</dt><dd>0.967562363880154</dd></dl>\n"
      ],
      "text/latex": [
       "\\begin{description*}\n",
       "\\item[rmsea] 0.107343876445478\n",
       "\\item[nfi] 0.965075683852945\n",
       "\\item[nnfi] 0.935124727760308\n",
       "\\item[cfi] 0.967562363880154\n",
       "\\end{description*}\n"
      ],
      "text/markdown": [
       "rmsea\n",
       ":   0.107343876445478nfi\n",
       ":   0.965075683852945nnfi\n",
       ":   0.935124727760308cfi\n",
       ":   0.967562363880154\n",
       "\n"
      ],
      "text/plain": [
       "rmsea   nfi  nnfi   cfi \n",
       "0.107 0.965 0.935 0.968 "
      ]
     },
     "metadata": {},
     "output_type": "display_data"
    },
    {
     "data": {
      "text/html": [
       "<style>\n",
       ".dl-inline {width: auto; margin:0; padding: 0}\n",
       ".dl-inline>dt, .dl-inline>dd {float: none; width: auto; display: inline-block}\n",
       ".dl-inline>dt::after {content: \":\\0020\"; padding-right: .5ex}\n",
       ".dl-inline>dt:not(:first-of-type) {padding-left: .5ex}\n",
       "</style><dl class=dl-inline><dt>rmsea</dt><dd>0.154973384231032</dd><dt>nfi</dt><dd>0.93009069838119</dd><dt>nnfi</dt><dd>0.864780639366046</dd><dt>cfi</dt><dd>0.932390319683023</dd></dl>\n"
      ],
      "text/latex": [
       "\\begin{description*}\n",
       "\\item[rmsea] 0.154973384231032\n",
       "\\item[nfi] 0.93009069838119\n",
       "\\item[nnfi] 0.864780639366046\n",
       "\\item[cfi] 0.932390319683023\n",
       "\\end{description*}\n"
      ],
      "text/markdown": [
       "rmsea\n",
       ":   0.154973384231032nfi\n",
       ":   0.93009069838119nnfi\n",
       ":   0.864780639366046cfi\n",
       ":   0.932390319683023\n",
       "\n"
      ],
      "text/plain": [
       "rmsea   nfi  nnfi   cfi \n",
       "0.155 0.930 0.865 0.932 "
      ]
     },
     "metadata": {},
     "output_type": "display_data"
    }
   ],
   "source": [
    "fitMeasures(sem_fit, c(\"rmsea\", \"nfi\", \"nnfi\", \"cfi\"))"
   ]
  },
  {
   "cell_type": "code",
   "execution_count": 188,
   "metadata": {},
   "outputs": [
    {
     "data": {
      "text/html": [
       "<table class=\"dataframe\">\n",
       "<caption>A lavaan.matrix.symmetric: 2 × 2 of type dbl</caption>\n",
       "<thead>\n",
       "\t<tr><th></th><th scope=col>semambig</th><th scope=col>semspace</th></tr>\n",
       "</thead>\n",
       "<tbody>\n",
       "\t<tr><th scope=row>semambig</th><td>1.0000000</td><td>0.7595117</td></tr>\n",
       "\t<tr><th scope=row>semspace</th><td>0.7595117</td><td>1.0000000</td></tr>\n",
       "</tbody>\n",
       "</table>\n"
      ],
      "text/latex": [
       "A lavaan.matrix.symmetric: 2 × 2 of type dbl\n",
       "\\begin{tabular}{r|ll}\n",
       "  & semambig & semspace\\\\\n",
       "\\hline\n",
       "\tsemambig & 1.0000000 & 0.7595117\\\\\n",
       "\tsemspace & 0.7595117 & 1.0000000\\\\\n",
       "\\end{tabular}\n"
      ],
      "text/markdown": [
       "\n",
       "A lavaan.matrix.symmetric: 2 × 2 of type dbl\n",
       "\n",
       "| <!--/--> | semambig | semspace |\n",
       "|---|---|---|\n",
       "| semambig | 1.0000000 | 0.7595117 |\n",
       "| semspace | 0.7595117 | 1.0000000 |\n",
       "\n"
      ],
      "text/plain": [
       "         semambig  semspace \n",
       "semambig 1.0000000 0.7595117\n",
       "semspace 0.7595117 1.0000000"
      ]
     },
     "metadata": {},
     "output_type": "display_data"
    }
   ],
   "source": [
    "lavInspect(sem_fit, \"cor.lv\")"
   ]
  },
  {
   "cell_type": "code",
   "execution_count": 202,
   "metadata": {},
   "outputs": [
    {
     "data": {
      "text/html": [
       "<table class=\"dataframe\">\n",
       "<caption>A lavaan.matrix.symmetric: 2 × 2 of type dbl</caption>\n",
       "<thead>\n",
       "\t<tr><th></th><th scope=col>semambig</th><th scope=col>semspace</th></tr>\n",
       "</thead>\n",
       "<tbody>\n",
       "\t<tr><th scope=row>semambig</th><td>1.0000000</td><td>0.8524343</td></tr>\n",
       "\t<tr><th scope=row>semspace</th><td>0.8524343</td><td>1.0000000</td></tr>\n",
       "</tbody>\n",
       "</table>\n"
      ],
      "text/latex": [
       "A lavaan.matrix.symmetric: 2 × 2 of type dbl\n",
       "\\begin{tabular}{r|ll}\n",
       "  & semambig & semspace\\\\\n",
       "\\hline\n",
       "\tsemambig & 1.0000000 & 0.8524343\\\\\n",
       "\tsemspace & 0.8524343 & 1.0000000\\\\\n",
       "\\end{tabular}\n"
      ],
      "text/markdown": [
       "\n",
       "A lavaan.matrix.symmetric: 2 × 2 of type dbl\n",
       "\n",
       "| <!--/--> | semambig | semspace |\n",
       "|---|---|---|\n",
       "| semambig | 1.0000000 | 0.8524343 |\n",
       "| semspace | 0.8524343 | 1.0000000 |\n",
       "\n"
      ],
      "text/plain": [
       "         semambig  semspace \n",
       "semambig 1.0000000 0.8524343\n",
       "semspace 0.8524343 1.0000000"
      ]
     },
     "metadata": {},
     "output_type": "display_data"
    }
   ],
   "source": [
    "lavInspect(sem_fit2, \"cor.lv\")"
   ]
  },
  {
   "cell_type": "code",
   "execution_count": 213,
   "metadata": {},
   "outputs": [
    {
     "data": {
      "text/html": [
       "<table class=\"dataframe\">\n",
       "<caption>A lavaan.matrix.symmetric: 8 × 8 of type dbl</caption>\n",
       "<thead>\n",
       "\t<tr><th></th><th scope=col>log_n_sense</th><th scope=col>log_freq</th><th scope=col>rEV</th><th scope=col>mw_weightD</th><th scope=col>sfreq_ent_norm</th><th scope=col>SemD</th><th scope=col>SemVar</th><th scope=col>RTinv</th></tr>\n",
       "</thead>\n",
       "<tbody>\n",
       "\t<tr><th scope=row>log_n_sense</th><td>0.32685803</td><td> 0.0000000</td><td> 0.05908891</td><td> 0.5881561</td><td>0.00000000</td><td>0.00000000</td><td>0.00000000</td><td>0.000000000</td></tr>\n",
       "\t<tr><th scope=row>log_freq</th><td>0.00000000</td><td> 1.8843235</td><td>-0.11532598</td><td>-0.7728451</td><td>0.00000000</td><td>0.00000000</td><td>0.00000000</td><td>0.000000000</td></tr>\n",
       "\t<tr><th scope=row>rEV</th><td>0.05908891</td><td>-0.1153260</td><td>-0.01613203</td><td>-0.1431841</td><td>0.00000000</td><td>0.00000000</td><td>0.00000000</td><td>0.000000000</td></tr>\n",
       "\t<tr><th scope=row>mw_weightD</th><td>0.58815607</td><td>-0.7728451</td><td>-0.14318410</td><td> 1.1811769</td><td>0.00000000</td><td>0.00000000</td><td>0.00000000</td><td>0.000000000</td></tr>\n",
       "\t<tr><th scope=row>sfreq_ent_norm</th><td>0.00000000</td><td> 0.0000000</td><td> 0.00000000</td><td> 0.0000000</td><td>0.04599307</td><td>0.00000000</td><td>0.00000000</td><td>0.000000000</td></tr>\n",
       "\t<tr><th scope=row>SemD</th><td>0.00000000</td><td> 0.0000000</td><td> 0.00000000</td><td> 0.0000000</td><td>0.00000000</td><td>0.00496416</td><td>0.00000000</td><td>0.000000000</td></tr>\n",
       "\t<tr><th scope=row>SemVar</th><td>0.00000000</td><td> 0.0000000</td><td> 0.00000000</td><td> 0.0000000</td><td>0.00000000</td><td>0.00000000</td><td>0.02228937</td><td>0.000000000</td></tr>\n",
       "\t<tr><th scope=row>RTinv</th><td>0.00000000</td><td> 0.0000000</td><td> 0.00000000</td><td> 0.0000000</td><td>0.00000000</td><td>0.00000000</td><td>0.00000000</td><td>0.008505083</td></tr>\n",
       "</tbody>\n",
       "</table>\n"
      ],
      "text/latex": [
       "A lavaan.matrix.symmetric: 8 × 8 of type dbl\n",
       "\\begin{tabular}{r|llllllll}\n",
       "  & log\\_n\\_sense & log\\_freq & rEV & mw\\_weightD & sfreq\\_ent\\_norm & SemD & SemVar & RTinv\\\\\n",
       "\\hline\n",
       "\tlog\\_n\\_sense & 0.32685803 &  0.0000000 &  0.05908891 &  0.5881561 & 0.00000000 & 0.00000000 & 0.00000000 & 0.000000000\\\\\n",
       "\tlog\\_freq & 0.00000000 &  1.8843235 & -0.11532598 & -0.7728451 & 0.00000000 & 0.00000000 & 0.00000000 & 0.000000000\\\\\n",
       "\trEV & 0.05908891 & -0.1153260 & -0.01613203 & -0.1431841 & 0.00000000 & 0.00000000 & 0.00000000 & 0.000000000\\\\\n",
       "\tmw\\_weightD & 0.58815607 & -0.7728451 & -0.14318410 &  1.1811769 & 0.00000000 & 0.00000000 & 0.00000000 & 0.000000000\\\\\n",
       "\tsfreq\\_ent\\_norm & 0.00000000 &  0.0000000 &  0.00000000 &  0.0000000 & 0.04599307 & 0.00000000 & 0.00000000 & 0.000000000\\\\\n",
       "\tSemD & 0.00000000 &  0.0000000 &  0.00000000 &  0.0000000 & 0.00000000 & 0.00496416 & 0.00000000 & 0.000000000\\\\\n",
       "\tSemVar & 0.00000000 &  0.0000000 &  0.00000000 &  0.0000000 & 0.00000000 & 0.00000000 & 0.02228937 & 0.000000000\\\\\n",
       "\tRTinv & 0.00000000 &  0.0000000 &  0.00000000 &  0.0000000 & 0.00000000 & 0.00000000 & 0.00000000 & 0.008505083\\\\\n",
       "\\end{tabular}\n"
      ],
      "text/markdown": [
       "\n",
       "A lavaan.matrix.symmetric: 8 × 8 of type dbl\n",
       "\n",
       "| <!--/--> | log_n_sense | log_freq | rEV | mw_weightD | sfreq_ent_norm | SemD | SemVar | RTinv |\n",
       "|---|---|---|---|---|---|---|---|---|\n",
       "| log_n_sense | 0.32685803 |  0.0000000 |  0.05908891 |  0.5881561 | 0.00000000 | 0.00000000 | 0.00000000 | 0.000000000 |\n",
       "| log_freq | 0.00000000 |  1.8843235 | -0.11532598 | -0.7728451 | 0.00000000 | 0.00000000 | 0.00000000 | 0.000000000 |\n",
       "| rEV | 0.05908891 | -0.1153260 | -0.01613203 | -0.1431841 | 0.00000000 | 0.00000000 | 0.00000000 | 0.000000000 |\n",
       "| mw_weightD | 0.58815607 | -0.7728451 | -0.14318410 |  1.1811769 | 0.00000000 | 0.00000000 | 0.00000000 | 0.000000000 |\n",
       "| sfreq_ent_norm | 0.00000000 |  0.0000000 |  0.00000000 |  0.0000000 | 0.04599307 | 0.00000000 | 0.00000000 | 0.000000000 |\n",
       "| SemD | 0.00000000 |  0.0000000 |  0.00000000 |  0.0000000 | 0.00000000 | 0.00496416 | 0.00000000 | 0.000000000 |\n",
       "| SemVar | 0.00000000 |  0.0000000 |  0.00000000 |  0.0000000 | 0.00000000 | 0.00000000 | 0.02228937 | 0.000000000 |\n",
       "| RTinv | 0.00000000 |  0.0000000 |  0.00000000 |  0.0000000 | 0.00000000 | 0.00000000 | 0.00000000 | 0.008505083 |\n",
       "\n"
      ],
      "text/plain": [
       "               log_n_sense log_freq   rEV         mw_weightD sfreq_ent_norm\n",
       "log_n_sense    0.32685803   0.0000000  0.05908891  0.5881561 0.00000000    \n",
       "log_freq       0.00000000   1.8843235 -0.11532598 -0.7728451 0.00000000    \n",
       "rEV            0.05908891  -0.1153260 -0.01613203 -0.1431841 0.00000000    \n",
       "mw_weightD     0.58815607  -0.7728451 -0.14318410  1.1811769 0.00000000    \n",
       "sfreq_ent_norm 0.00000000   0.0000000  0.00000000  0.0000000 0.04599307    \n",
       "SemD           0.00000000   0.0000000  0.00000000  0.0000000 0.00000000    \n",
       "SemVar         0.00000000   0.0000000  0.00000000  0.0000000 0.00000000    \n",
       "RTinv          0.00000000   0.0000000  0.00000000  0.0000000 0.00000000    \n",
       "               SemD       SemVar     RTinv      \n",
       "log_n_sense    0.00000000 0.00000000 0.000000000\n",
       "log_freq       0.00000000 0.00000000 0.000000000\n",
       "rEV            0.00000000 0.00000000 0.000000000\n",
       "mw_weightD     0.00000000 0.00000000 0.000000000\n",
       "sfreq_ent_norm 0.00000000 0.00000000 0.000000000\n",
       "SemD           0.00496416 0.00000000 0.000000000\n",
       "SemVar         0.00000000 0.02228937 0.000000000\n",
       "RTinv          0.00000000 0.00000000 0.008505083"
      ]
     },
     "metadata": {},
     "output_type": "display_data"
    }
   ],
   "source": [
    "lavInspect(sem_fit2, \"theta\")"
   ]
  },
  {
   "cell_type": "code",
   "execution_count": 180,
   "metadata": {},
   "outputs": [
    {
     "name": "stdout",
     "output_type": "stream",
     "text": [
      "lavaan 0.6-8 ended normally after 69 iterations\n",
      "\n",
      "  Estimator                                         ML\n",
      "  Optimization method                           NLMINB\n",
      "  Number of model parameters                        22\n",
      "                                                      \n",
      "  Number of observations                          1053\n",
      "                                                      \n",
      "Model Test User Model:\n",
      "                                                      \n",
      "  Test statistic                               183.868\n",
      "  Degrees of freedom                                14\n",
      "  P-value (Chi-square)                           0.000\n",
      "\n",
      "Parameter Estimates:\n",
      "\n",
      "  Standard errors                             Standard\n",
      "  Information                                 Expected\n",
      "  Information saturated (h1) model          Structured\n",
      "\n",
      "Latent Variables:\n",
      "                   Estimate  Std.Err  z-value  P(>|z|)\n",
      "  semambig =~                                         \n",
      "    log_n_sense       1.000                           \n",
      "    SemD              0.066    0.007    8.800    0.000\n",
      "    SemVar            0.379    0.026   14.636    0.000\n",
      "    log_freq          3.534    0.253   13.965    0.000\n",
      "  semspace =~                                         \n",
      "    rEV               1.000                           \n",
      "    mw_weightD        8.629    0.152   56.824    0.000\n",
      "    sfreq_ent_norm    0.460    0.017   27.730    0.000\n",
      "\n",
      "Regressions:\n",
      "                   Estimate  Std.Err  z-value  P(>|z|)\n",
      "  RTinv ~                                             \n",
      "    semambig         -0.228    0.023   -9.989    0.000\n",
      "    semspace          0.063    0.014    4.574    0.000\n",
      "\n",
      "Covariances:\n",
      "                   Estimate  Std.Err  z-value  P(>|z|)\n",
      " .log_n_sense ~~                                      \n",
      "   .rEV               0.115    0.006   17.787    0.000\n",
      "   .mw_weightD        1.127    0.064   17.552    0.000\n",
      " .log_freq ~~                                         \n",
      "   .rEV              -0.062    0.010   -6.334    0.000\n",
      "   .mw_weightD       -0.267    0.107   -2.503    0.012\n",
      "  semambig ~~                                         \n",
      "    semspace          0.113    0.011   10.514    0.000\n",
      "\n",
      "Variances:\n",
      "                   Estimate  Std.Err  z-value  P(>|z|)\n",
      "   .log_n_sense       0.410    0.018   22.460    0.000\n",
      "   .SemD              0.005    0.000   22.479    0.000\n",
      "   .SemVar            0.014    0.001   14.327    0.000\n",
      "   .log_freq          1.561    0.099   15.799    0.000\n",
      "   .rEV              -0.004    0.002   -1.887    0.059\n",
      "   .mw_weightD        2.743    0.187   14.664    0.000\n",
      "   .sfreq_ent_norm    0.049    0.002   25.097    0.000\n",
      "   .RTinv             0.011    0.001   19.338    0.000\n",
      "    semambig          0.127    0.016    7.902    0.000\n",
      "    semspace          0.174    0.007   23.268    0.000\n",
      "\n"
     ]
    }
   ],
   "source": [
    "summary(sem_fit)"
   ]
  },
  {
   "cell_type": "code",
   "execution_count": 170,
   "metadata": {},
   "outputs": [
    {
     "data": {
      "text/html": [
       "<style>\n",
       ".dl-inline {width: auto; margin:0; padding: 0}\n",
       ".dl-inline>dt, .dl-inline>dd {float: none; width: auto; display: inline-block}\n",
       ".dl-inline>dt::after {content: \":\\0020\"; padding-right: .5ex}\n",
       ".dl-inline>dt:not(:first-of-type) {padding-left: .5ex}\n",
       "</style><dl class=dl-inline><dt>rmsea</dt><dd>0.194549025419264</dd><dt>nfi</dt><dd>0.883597478000686</dd><dt>nnfi</dt><dd>0.78690033687864</dd><dt>cfi</dt><dd>0.885839466184986</dd></dl>\n"
      ],
      "text/latex": [
       "\\begin{description*}\n",
       "\\item[rmsea] 0.194549025419264\n",
       "\\item[nfi] 0.883597478000686\n",
       "\\item[nnfi] 0.78690033687864\n",
       "\\item[cfi] 0.885839466184986\n",
       "\\end{description*}\n"
      ],
      "text/markdown": [
       "rmsea\n",
       ":   0.194549025419264nfi\n",
       ":   0.883597478000686nnfi\n",
       ":   0.78690033687864cfi\n",
       ":   0.885839466184986\n",
       "\n"
      ],
      "text/plain": [
       "rmsea   nfi  nnfi   cfi \n",
       "0.195 0.884 0.787 0.886 "
      ]
     },
     "metadata": {},
     "output_type": "display_data"
    }
   ],
   "source": []
  },
  {
   "cell_type": "code",
   "execution_count": 27,
   "metadata": {},
   "outputs": [],
   "source": [
    "naming.vars = c(\"RTinv\", \n",
    "        \"log_n_sense\", \"sfreq_ent_norm\", \"vol_cennorm\",\n",
    "        \"mw_weightD\", \"rEV\")\n",
    "naming.RT.cf <- cforest(RTinv ~ ., data=naming[,naming.vars])\n",
    "naming.RT.varimp = varimp(naming.RT.cf)"
   ]
  },
  {
   "cell_type": "code",
   "execution_count": 29,
   "metadata": {},
   "outputs": [
    {
     "data": {
      "image/png": "[encoded data removed]",
      "text/plain": [
       "plot without title"
      ]
     },
     "metadata": {
      "image/png": {
       "height": 300,
       "width": 300
      }
     },
     "output_type": "display_data"
    }
   ],
   "source": [
    "popt(3,3)\n",
    "dotplot(sort(naming.RT.varimp), main=list(cex=2))"
   ]
  },
  {
   "cell_type": "code",
   "execution_count": 69,
   "metadata": {},
   "outputs": [],
   "source": [
    "m.01 = bam(RTinv~s(log_freq)+s(log_n_sense)+s(sfreq_ent_norm)+s(rEV), data=naming)"
   ]
  },
  {
   "cell_type": "code",
   "execution_count": 70,
   "metadata": {},
   "outputs": [
    {
     "data": {
      "text/plain": [
       "\n",
       "Family: gaussian \n",
       "Link function: identity \n",
       "\n",
       "Formula:\n",
       "RTinv ~ s(log_freq) + s(log_n_sense) + s(sfreq_ent_norm) + s(rEV)\n",
       "\n",
       "Parametric coefficients:\n",
       "             Estimate Std. Error t value Pr(>|t|)    \n",
       "(Intercept) -1.420015   0.003271  -434.1   <2e-16 ***\n",
       "---\n",
       "Signif. codes:  0 '***' 0.001 '**' 0.01 '*' 0.05 '.' 0.1 ' ' 1\n",
       "\n",
       "Approximate significance of smooth terms:\n",
       "                    edf Ref.df      F p-value    \n",
       "s(log_freq)       3.864  4.839 36.499 < 2e-16 ***\n",
       "s(log_n_sense)    1.000  1.000  1.424 0.23293    \n",
       "s(sfreq_ent_norm) 1.000  1.000  0.133 0.71505    \n",
       "s(rEV)            1.000  1.000  7.179 0.00748 ** \n",
       "---\n",
       "Signif. codes:  0 '***' 0.001 '**' 0.01 '*' 0.05 '.' 0.1 ' ' 1\n",
       "\n",
       "R-sq.(adj) =  0.235   Deviance explained =   24%\n",
       "fREML = -891.35  Scale est. = 0.013021  n = 1217"
      ]
     },
     "metadata": {},
     "output_type": "display_data"
    }
   ],
   "source": [
    "summary(m.01)"
   ]
  },
  {
   "cell_type": "code",
   "execution_count": 71,
   "metadata": {},
   "outputs": [
    {
     "data": {
      "text/html": [
       "<table>\n",
       "<caption>A matrix: 3 × 5 of type dbl</caption>\n",
       "<thead>\n",
       "\t<tr><th></th><th scope=col>para</th><th scope=col>s(log_freq)</th><th scope=col>s(log_n_sense)</th><th scope=col>s(sfreq_ent_norm)</th><th scope=col>s(rEV)</th></tr>\n",
       "</thead>\n",
       "<tbody>\n",
       "\t<tr><th scope=row>worst</th><td>7.567851e-20</td><td>0.2639595</td><td>0.9904539</td><td>0.9772046</td><td>0.9905351</td></tr>\n",
       "\t<tr><th scope=row>observed</th><td>7.567851e-20</td><td>0.2182586</td><td>0.6593875</td><td>0.7498160</td><td>0.8885286</td></tr>\n",
       "\t<tr><th scope=row>estimate</th><td>7.567851e-20</td><td>0.1658200</td><td>0.5361839</td><td>0.7604780</td><td>0.8490422</td></tr>\n",
       "</tbody>\n",
       "</table>\n"
      ],
      "text/latex": [
       "A matrix: 3 × 5 of type dbl\n",
       "\\begin{tabular}{r|lllll}\n",
       "  & para & s(log\\_freq) & s(log\\_n\\_sense) & s(sfreq\\_ent\\_norm) & s(rEV)\\\\\n",
       "\\hline\n",
       "\tworst & 7.567851e-20 & 0.2639595 & 0.9904539 & 0.9772046 & 0.9905351\\\\\n",
       "\tobserved & 7.567851e-20 & 0.2182586 & 0.6593875 & 0.7498160 & 0.8885286\\\\\n",
       "\testimate & 7.567851e-20 & 0.1658200 & 0.5361839 & 0.7604780 & 0.8490422\\\\\n",
       "\\end{tabular}\n"
      ],
      "text/markdown": [
       "\n",
       "A matrix: 3 × 5 of type dbl\n",
       "\n",
       "| <!--/--> | para | s(log_freq) | s(log_n_sense) | s(sfreq_ent_norm) | s(rEV) |\n",
       "|---|---|---|---|---|---|\n",
       "| worst | 7.567851e-20 | 0.2639595 | 0.9904539 | 0.9772046 | 0.9905351 |\n",
       "| observed | 7.567851e-20 | 0.2182586 | 0.6593875 | 0.7498160 | 0.8885286 |\n",
       "| estimate | 7.567851e-20 | 0.1658200 | 0.5361839 | 0.7604780 | 0.8490422 |\n",
       "\n"
      ],
      "text/plain": [
       "         para         s(log_freq) s(log_n_sense) s(sfreq_ent_norm) s(rEV)   \n",
       "worst    7.567851e-20 0.2639595   0.9904539      0.9772046         0.9905351\n",
       "observed 7.567851e-20 0.2182586   0.6593875      0.7498160         0.8885286\n",
       "estimate 7.567851e-20 0.1658200   0.5361839      0.7604780         0.8490422"
      ]
     },
     "metadata": {},
     "output_type": "display_data"
    }
   ],
   "source": [
    "concurvity(m.01)"
   ]
  },
  {
   "cell_type": "code",
   "execution_count": 107,
   "metadata": {},
   "outputs": [],
   "source": [
    "m.02 = bam(RTinv~s(log_freq)+s(log_n_sense)+s(sfreq_ent_norm), data=naming)"
   ]
  },
  {
   "cell_type": "code",
   "execution_count": 108,
   "metadata": {},
   "outputs": [
    {
     "data": {
      "text/plain": [
       "\n",
       "Family: gaussian \n",
       "Link function: identity \n",
       "\n",
       "Formula:\n",
       "RTinv ~ s(log_freq) + s(log_n_sense) + s(sfreq_ent_norm)\n",
       "\n",
       "Parametric coefficients:\n",
       "             Estimate Std. Error t value Pr(>|t|)    \n",
       "(Intercept) -1.420015   0.003277  -433.3   <2e-16 ***\n",
       "---\n",
       "Signif. codes:  0 '***' 0.001 '**' 0.01 '*' 0.05 '.' 0.1 ' ' 1\n",
       "\n",
       "Approximate significance of smooth terms:\n",
       "                    edf Ref.df      F  p-value    \n",
       "s(log_freq)       3.803  4.765 41.088  < 2e-16 ***\n",
       "s(log_n_sense)    1.627  2.054  8.092 0.000294 ***\n",
       "s(sfreq_ent_norm) 1.561  1.928  4.073 0.019809 *  \n",
       "---\n",
       "Signif. codes:  0 '***' 0.001 '**' 0.01 '*' 0.05 '.' 0.1 ' ' 1\n",
       "\n",
       "R-sq.(adj) =  0.232   Deviance explained = 23.7%\n",
       "fREML = -891.87  Scale est. = 0.01307   n = 1217"
      ]
     },
     "metadata": {},
     "output_type": "display_data"
    }
   ],
   "source": [
    "summary(m.02)"
   ]
  },
  {
   "cell_type": "code",
   "execution_count": 109,
   "metadata": {},
   "outputs": [
    {
     "name": "stdout",
     "output_type": "stream",
     "text": [
      "m.01: RTinv ~ s(log_freq) + s(log_n_sense) + s(sfreq_ent_norm) + s(rEV)\n",
      "\n",
      "m.02: RTinv ~ s(log_freq) + s(log_n_sense) + s(sfreq_ent_norm)\n",
      "\n",
      "Model m.02 preferred: lower fREML score (0.521), and lower df (2.000).\n",
      "-----\n",
      "  Model     Score Edf Difference    Df\n",
      "1  m.01 -891.3490   9                 \n",
      "2  m.02 -891.8704   7     -0.521 2.000\n",
      "\n",
      "AIC difference: -7.44, model m.01 has lower AIC.\n",
      "\n"
     ]
    },
    {
     "name": "stderr",
     "output_type": "stream",
     "text": [
      "Warning message in compareML(m.01, m.02):\n",
      "\"Only small difference in fREML...\n",
      "\"\n"
     ]
    }
   ],
   "source": [
    "compareML(m.01, m.02)"
   ]
  },
  {
   "cell_type": "markdown",
   "metadata": {},
   "source": [
    "## Semantic Ambiguity"
   ]
  },
  {
   "cell_type": "code",
   "execution_count": 117,
   "metadata": {},
   "outputs": [],
   "source": [
    "naming$sa = naming$`Semantic Ambiguity Rating`\n",
    "naming.sa.vars = c(\"sa\", \n",
    "        \"log_n_sense\", \"sfreq_ent_norm\", \"vol_cennorm\",\n",
    "        \"mw_weightD\", \"rEV\")\n",
    "naming.sa.cf <- cforest(sa ~ ., data=naming[,naming.sa.vars])\n",
    "naming.sa.varimp = varimp(naming.sa.cf)"
   ]
  },
  {
   "cell_type": "code",
   "execution_count": 118,
   "metadata": {},
   "outputs": [
    {
     "data": {
      "image/png": "[encoded data removed]",
      "text/plain": [
       "plot without title"
      ]
     },
     "metadata": {
      "image/png": {
       "height": 300,
       "width": 300
      }
     },
     "output_type": "display_data"
    }
   ],
   "source": [
    "dotplot(sort(naming.sa.varimp), main=list(cex=2))"
   ]
  },
  {
   "cell_type": "code",
   "execution_count": 119,
   "metadata": {},
   "outputs": [],
   "source": [
    "sa.01 = bam(sa~s(log_freq)+s(log_n_sense)+s(sfreq_ent_norm), data=naming)"
   ]
  },
  {
   "cell_type": "code",
   "execution_count": 120,
   "metadata": {},
   "outputs": [
    {
     "data": {
      "text/plain": [
       "\n",
       "Family: gaussian \n",
       "Link function: identity \n",
       "\n",
       "Formula:\n",
       "sa ~ s(log_freq) + s(log_n_sense) + s(sfreq_ent_norm)\n",
       "\n",
       "Parametric coefficients:\n",
       "            Estimate Std. Error t value Pr(>|t|)    \n",
       "(Intercept)  1.90677    0.01154   165.2   <2e-16 ***\n",
       "---\n",
       "Signif. codes:  0 '***' 0.001 '**' 0.01 '*' 0.05 '.' 0.1 ' ' 1\n",
       "\n",
       "Approximate significance of smooth terms:\n",
       "                    edf Ref.df      F p-value    \n",
       "s(log_freq)       4.451  5.523 80.672  <2e-16 ***\n",
       "s(log_n_sense)    2.614  3.331 74.300  <2e-16 ***\n",
       "s(sfreq_ent_norm) 1.000  1.000  0.002   0.969    \n",
       "---\n",
       "Signif. codes:  0 '***' 0.001 '**' 0.01 '*' 0.05 '.' 0.1 ' ' 1\n",
       "\n",
       "R-sq.(adj) =  0.499   Deviance explained = 50.2%\n",
       "fREML = 637.12  Scale est. = 0.16218   n = 1217"
      ]
     },
     "metadata": {},
     "output_type": "display_data"
    }
   ],
   "source": [
    "summary(sa.01)"
   ]
  },
  {
   "cell_type": "code",
   "execution_count": 125,
   "metadata": {},
   "outputs": [],
   "source": [
    "sa.02 = bam(sa~s(log_freq)+s(log_n_sense)+s(mw_weightD), data=naming)"
   ]
  },
  {
   "cell_type": "code",
   "execution_count": 126,
   "metadata": {},
   "outputs": [
    {
     "data": {
      "text/plain": [
       "\n",
       "Family: gaussian \n",
       "Link function: identity \n",
       "\n",
       "Formula:\n",
       "sa ~ s(log_freq) + s(log_n_sense) + s(mw_weightD)\n",
       "\n",
       "Parametric coefficients:\n",
       "            Estimate Std. Error t value Pr(>|t|)    \n",
       "(Intercept)  1.90677    0.01149     166   <2e-16 ***\n",
       "---\n",
       "Signif. codes:  0 '***' 0.001 '**' 0.01 '*' 0.05 '.' 0.1 ' ' 1\n",
       "\n",
       "Approximate significance of smooth terms:\n",
       "                 edf Ref.df      F p-value    \n",
       "s(log_freq)    4.591  5.683 72.534  <2e-16 ***\n",
       "s(log_n_sense) 2.460  3.163 39.780  <2e-16 ***\n",
       "s(mw_weightD)  3.391  4.169  2.701  0.0277 *  \n",
       "---\n",
       "Signif. codes:  0 '***' 0.001 '**' 0.01 '*' 0.05 '.' 0.1 ' ' 1\n",
       "\n",
       "R-sq.(adj) =  0.503   Deviance explained = 50.8%\n",
       "fREML = 633.67  Scale est. = 0.16062   n = 1217"
      ]
     },
     "metadata": {},
     "output_type": "display_data"
    }
   ],
   "source": [
    "summary(sa.02)"
   ]
  },
  {
   "cell_type": "code",
   "execution_count": 130,
   "metadata": {},
   "outputs": [
    {
     "data": {
      "image/png": "[encoded data removed]",
      "text/plain": [
       "plot without title"
      ]
     },
     "metadata": {
      "image/png": {
       "height": 300,
       "width": 600
      }
     },
     "output_type": "display_data"
    }
   ],
   "source": [
    "popt(6,3)\n",
    "par(mfrow=c(1, 2))\n",
    "plot(sa.02, select=1)\n",
    "plot(sa.02, select=2)"
   ]
  },
  {
   "cell_type": "code",
   "execution_count": 132,
   "metadata": {},
   "outputs": [
    {
     "data": {
      "image/png": "[encoded data removed]",
      "text/plain": [
       "plot without title"
      ]
     },
     "metadata": {
      "image/png": {
       "height": 300,
       "width": 600
      }
     },
     "output_type": "display_data"
    }
   ],
   "source": [
    "popt(6,3)\n",
    "par(mfrow=c(1, 2))\n",
    "plot(sa.02, select=3)\n",
    "plot(sa.02, select=3, ylim=c(-0.25, 0.25))"
   ]
  },
  {
   "cell_type": "code",
   "execution_count": null,
   "metadata": {},
   "outputs": [],
   "source": []
  }
 ],
 "metadata": {
  "kernelspec": {
   "display_name": "R",
   "language": "R",
   "name": "ir"
  },
  "language_info": {
   "codemirror_mode": "r",
   "file_extension": ".r",
   "mimetype": "text/x-r-source",
   "name": "R",
   "pygments_lexer": "r",
   "version": "4.1.0"
  }
 },
 "nbformat": 4,
 "nbformat_minor": 5
}
