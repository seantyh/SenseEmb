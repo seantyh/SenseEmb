{
 "cells": [
  {
   "cell_type": "code",
   "execution_count": 1,
   "metadata": {},
   "outputs": [],
   "source": [
    "%load_ext autoreload\n",
    "%autoreload 2"
   ]
  },
  {
   "cell_type": "code",
   "execution_count": 2,
   "metadata": {},
   "outputs": [],
   "source": [
    "import sys\n",
    "sys.path.append(\"../src\")"
   ]
  },
  {
   "cell_type": "code",
   "execution_count": 6,
   "metadata": {},
   "outputs": [],
   "source": [
    "import SenseEmb\n",
    "from CwnGraph import CwnBase, CwnSense\n",
    "cwn = CwnBase()"
   ]
  },
  {
   "cell_type": "code",
   "execution_count": 4,
   "metadata": {},
   "outputs": [],
   "source": [
    "skv = SenseEmb.SenseKeyedVectors.load_from_kv(\"../data/sense-emb-asbc5-600k.kv\")"
   ]
  },
  {
   "cell_type": "code",
   "execution_count": 11,
   "metadata": {},
   "outputs": [
    {
     "data": {
      "text/plain": [
       "[(34, <CwnSense[03009901](調): 更動特定對象的職位。>),\n",
       " (2, <CwnSense[03009902](調): 互換。>),\n",
       " (4, <CwnSense[03009903](調): 派遣、分配安排工作。>),\n",
       " (0, <CwnSense[03009904](調): 提出需求以取得資料。>),\n",
       " (2, <CwnSense[03009905](調): 設法取得。>),\n",
       " (5, <CwnSense[03009906](調): 歌曲或戲曲的音律。>),\n",
       " (10, <CwnSense[03009907](調): 主音的高度。>),\n",
       " (4, <CwnSense[03009908](調): 調或腔調。>),\n",
       " (6, <CwnSense[03009909](調): 字音高低升降的聲調。>),\n",
       " (5, <CwnSense[03009910](調): 對特定對象持有的看法。>),\n",
       " (3, <CwnSense[03009911](調): 特定對象表現出來的風格特色。>),\n",
       " (10, <CwnSense[03042001](調): 依照特定標準改變或更動後述對象。>),\n",
       " (13, <CwnSense[03042002](調): 依照環境改變使達到均勻和諧。>),\n",
       " (9, <CwnSense[03042003](調): 形容均勻和諧。>),\n",
       " (6, <CwnSense[03042004](調): 依一定的比例將兩種以上的東西混合。>)]"
      ]
     },
     "execution_count": 11,
     "metadata": {},
     "output_type": "execute_result"
    }
   ],
   "source": [
    "[(skv.query_sense_freq(x), x) for x in cwn.find_all_senses(\"調\")]"
   ]
  },
  {
   "cell_type": "code",
   "execution_count": 16,
   "metadata": {},
   "outputs": [
    {
     "data": {
      "text/plain": [
       "[('熬: 將食材或藥材以小火慢煮，使多餘的水分蒸發，以萃取其味道或有效成分。', 0.8728464841842651),\n",
       " ('Ｋ金', 0.8705813884735107),\n",
       " ('共進', 0.8673228621482849),\n",
       " ('配: 以特定副食搭配主食食用。', 0.866407573223114),\n",
       " ('油: 烹調食物的油。', 0.8617103695869446),\n",
       " ('木瓜', 0.8596760034561157),\n",
       " ('奶粉', 0.8589595556259155),\n",
       " ('接: 接通特定線路。', 0.8563722372055054),\n",
       " ('水: 具有前述功能的液體。', 0.8563438653945923),\n",
       " ('油炸', 0.8554486632347107)]"
      ]
     },
     "execution_count": 16,
     "metadata": {},
     "output_type": "execute_result"
    }
   ],
   "source": [
    "[(skv.query_sense(x[0]), x[1]) for x in skv.most_similar(\"調-03042004\")]"
   ]
  },
  {
   "cell_type": "code",
   "execution_count": 20,
   "metadata": {},
   "outputs": [
    {
     "data": {
      "text/plain": [
       "[(432, <CwnSense[06530201](語言): 人類以口語進行因族群而不同的溝通系統。>),\n",
       " (123, <CwnSense[06530202](語言): 以語音或約定俗成符號所組成的系統性溝通方式。>),\n",
       " (171, <CwnSense[06530203](語言): 因特定環境或領域所選用的特定詞彙。>),\n",
       " (58, <CwnSense[06530204](語言): 指示電腦執行工作的指令，由符號與特定語法所組成的符號系統。>),\n",
       " (80, <CwnSense[06530205](語言): 比喻具有獨特特色的表達與傳遞想法的方式。>)]"
      ]
     },
     "execution_count": 20,
     "metadata": {},
     "output_type": "execute_result"
    }
   ],
   "source": [
    "[(skv.query_sense_freq(x), x) for x in cwn.find_all_senses(\"語言\")]"
   ]
  },
  {
   "cell_type": "code",
   "execution_count": 21,
   "metadata": {},
   "outputs": [
    {
     "data": {
      "text/plain": [
       "[('文字: 記錄語言的書面符號。', 0.8657137155532837),\n",
       " ('理論: 對特定事物的有系統的解釋。', 0.8508267402648926),\n",
       " ('宗教: 利用人類對於未知所產生的驚奇和敬畏心理而構成的一種信仰。', 0.8429843187332153),\n",
       " ('語言: 因特定環境或領域所選用的特定詞彙。', 0.8336774706840515),\n",
       " ('倫理', 0.8300562500953674),\n",
       " ('藝術: 研究藝術的知識。', 0.8286547064781189),\n",
       " ('信仰', 0.8249788880348206),\n",
       " ('哲學: 以理性輔佐證據的方式歸納出自然界的道理或知識本質的理論。', 0.8241111636161804),\n",
       " ('思想: 經過思考產生的意識結果。', 0.8236746788024902),\n",
       " ('自然: 「自然科學」的簡省。', 0.8194018602371216)]"
      ]
     },
     "execution_count": 21,
     "metadata": {},
     "output_type": "execute_result"
    }
   ],
   "source": [
    "[(skv.query_sense(x[0]), x[1]) for x in skv.most_similar(\"語言-06530201\")]"
   ]
  },
  {
   "cell_type": "code",
   "execution_count": 22,
   "metadata": {},
   "outputs": [
    {
     "data": {
      "text/plain": [
       "[('運算', 0.9190239906311035),\n",
       " ('字符', 0.9075713753700256),\n",
       " ('浮點', 0.8996320962905884),\n",
       " ('編碼', 0.8956668972969055),\n",
       " ('連接', 0.8927704691886902),\n",
       " ('合成', 0.8844591975212097),\n",
       " ('繪圖', 0.8799346089363098),\n",
       " ('類別', 0.8791607618331909),\n",
       " ('型式', 0.8779316544532776),\n",
       " ('屬性', 0.8743693232536316)]"
      ]
     },
     "execution_count": 22,
     "metadata": {},
     "output_type": "execute_result"
    }
   ],
   "source": [
    "[(skv.query_sense(x[0]), x[1]) for x in skv.most_similar(\"語言-06530204\")]"
   ]
  },
  {
   "cell_type": "code",
   "execution_count": null,
   "metadata": {},
   "outputs": [],
   "source": []
  }
 ],
 "metadata": {
  "kernelspec": {
   "display_name": "Python 3",
   "language": "python",
   "name": "python3"
  },
  "language_info": {
   "codemirror_mode": {
    "name": "ipython",
    "version": 3
   },
   "file_extension": ".py",
   "mimetype": "text/x-python",
   "name": "python",
   "nbconvert_exporter": "python",
   "pygments_lexer": "ipython3",
   "version": "3.8.2"
  }
 },
 "nbformat": 4,
 "nbformat_minor": 4
}
