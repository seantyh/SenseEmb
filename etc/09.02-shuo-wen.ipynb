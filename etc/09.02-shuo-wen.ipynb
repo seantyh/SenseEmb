{
 "cells": [
  {
   "cell_type": "code",
   "execution_count": 1,
   "metadata": {},
   "outputs": [],
   "source": [
    "import json\n",
    "import re"
   ]
  },
  {
   "cell_type": "markdown",
   "metadata": {},
   "source": [
    "## Load data and checking"
   ]
  },
  {
   "cell_type": "code",
   "execution_count": 27,
   "metadata": {},
   "outputs": [],
   "source": [
    "with open(\"../data/misc/shuo-wen.json\", \"r\", encoding=\"UTF-8\") as fin:\n",
    "    raw_data = json.load(fin)\n",
    "data = {}\n",
    "for item_dict in raw_data:\n",
    "    for k, v in item_dict.items():\n",
    "        data.setdefault(k, []).extend(v)"
   ]
  },
  {
   "cell_type": "code",
   "execution_count": 28,
   "metadata": {},
   "outputs": [
    {
     "data": {
      "text/plain": [
       "[('卯部', 2), ('大部', 2), ('白部', 2), ('亥部', 1), ('戌部', 1)]"
      ]
     },
     "execution_count": 28,
     "metadata": {},
     "output_type": "execute_result"
    }
   ],
   "source": [
    "titles = [list(x.keys())[0] for x in raw_data]\n",
    "from collections import Counter\n",
    "Counter(titles).most_common(5)"
   ]
  },
  {
   "cell_type": "code",
   "execution_count": 29,
   "metadata": {},
   "outputs": [
    {
     "data": {
      "text/plain": [
       "[{'卯部': ['卯：冒也。二月，萬物冒地而出。象開門之形。故二月為天門。凡卯之屬皆从卯。']},\n",
       " {'卯部': ['卯：事之制也。从卩、纯。凡卯之屬皆从卯。闕。',\n",
       "   '卿：章也。六卿：天官冢宰、地官司徒、春官宗伯、夏官司馬、秋官司寇、冬官司空。从卯皀聲。']}]"
      ]
     },
     "execution_count": 29,
     "metadata": {},
     "output_type": "execute_result"
    }
   ],
   "source": [
    "[x for x in raw_data if '卯部' in x]"
   ]
  },
  {
   "cell_type": "code",
   "execution_count": 32,
   "metadata": {},
   "outputs": [
    {
     "data": {
      "text/plain": [
       "['人：天地之性最貴者也。此籒文。象臂脛之形。凡人之屬皆从人。',\n",
       " '僮：未冠也。从人童聲。',\n",
       " '保：養也。从人，从𤓽省。𤓽，古文孚。',\n",
       " '仁：親也。从人从二。',\n",
       " '企：舉踵也。从人止聲。',\n",
       " '仞：伸臂一尋，八尺。从人刃聲。',\n",
       " '仕：學也。从人从士。',\n",
       " '佼：交也。从人从交。',\n",
       " '僎：具也。从人巽聲。',\n",
       " '俅：冠飾皃。从人求聲。《詩》曰：「弁服俅俅。」']"
      ]
     },
     "execution_count": 32,
     "metadata": {},
     "output_type": "execute_result"
    }
   ],
   "source": [
    "data[\"人部\"][:10]"
   ]
  },
  {
   "cell_type": "markdown",
   "metadata": {},
   "source": [
    "## Find patterns"
   ]
  },
  {
   "cell_type": "code",
   "execution_count": 131,
   "metadata": {},
   "outputs": [],
   "source": [
    "pats = [(k, re.compile(v)) for k, v in \n",
    "        [(\"形聲\", \"从(.)从?(.)聲\"), (\"會意\", \"从(.)从(.[^聲]*?)[。，\\s]\"), (\"亦聲\", \"从.从.，(.)亦聲\")]]"
   ]
  },
  {
   "cell_type": "code",
   "execution_count": 132,
   "metadata": {},
   "outputs": [
    {
     "data": {
      "text/plain": [
       "[('形聲', re.compile(r'从(.)从?(.)聲', re.UNICODE)),\n",
       " ('會意', re.compile(r'从(.)从(.[^聲]*?)[。，\\s]', re.UNICODE)),\n",
       " ('亦聲', re.compile(r'从.从.，(.)亦聲', re.UNICODE))]"
      ]
     },
     "execution_count": 132,
     "metadata": {},
     "output_type": "execute_result"
    }
   ],
   "source": [
    "pats"
   ]
  },
  {
   "cell_type": "code",
   "execution_count": 133,
   "metadata": {},
   "outputs": [
    {
     "data": {
      "text/plain": [
       "'治人者也。从一从史，史亦聲。'"
      ]
     },
     "execution_count": 133,
     "metadata": {},
     "output_type": "execute_result"
    }
   ],
   "source": [
    "chitems[\"吏\"]"
   ]
  },
  {
   "cell_type": "code",
   "execution_count": 143,
   "metadata": {},
   "outputs": [],
   "source": [
    "samples = ['清:朖也。澂水之皃。从水青聲。',\n",
    "           '祰:告祭也。从示从告聲。', \n",
    "           '祝:祭主贊詞者。从示从人口。一曰从兌省。《易》曰：「兌為口為巫。」。', \n",
    "           '吏:治人者也。从一从史，史亦聲。']"
   ]
  },
  {
   "cell_type": "markdown",
   "metadata": {},
   "source": [
    "expected output:\n",
    "```\n",
    "清 形聲 [('水', '青')]\n",
    "祰 形聲 [('示', '告')]\n",
    "祝 形聲 []\n",
    "吏 形聲 []\n",
    "清 會意 []\n",
    "祰 會意 []\n",
    "祝 會意 [('示', '人口')]\n",
    "吏 會意 [('一', '史')]\n",
    "清 亦聲 []\n",
    "祰 亦聲 []\n",
    "祝 亦聲 []\n",
    "吏 亦聲 ['史']\n",
    "```"
   ]
  },
  {
   "cell_type": "code",
   "execution_count": 145,
   "metadata": {},
   "outputs": [
    {
     "name": "stdout",
     "output_type": "stream",
     "text": [
      "清 形聲 [('水', '青')]\n",
      "祰 形聲 [('示', '告')]\n",
      "祝 形聲 []\n",
      "吏 形聲 []\n",
      "清 會意 []\n",
      "祰 會意 []\n",
      "祝 會意 [('示', '人口')]\n",
      "吏 會意 [('一', '史')]\n",
      "清 亦聲 []\n",
      "祰 亦聲 []\n",
      "祝 亦聲 []\n",
      "吏 亦聲 ['史']\n"
     ]
    }
   ],
   "source": [
    "from itertools import product\n",
    "for (pat_key, pat_x), sample_x in product(pats, samples):\n",
    "    print(sample_x[0], pat_key, pat_x.findall(sample_x))"
   ]
  },
  {
   "cell_type": "code",
   "execution_count": 155,
   "metadata": {},
   "outputs": [],
   "source": [
    "chitems = {}\n",
    "entries = []\n",
    "invalids = []\n",
    "for bu, items in data.items():    \n",
    "    if not bu.endswith(\"部\"): continue\n",
    "    for item_x in items:        \n",
    "        if item_x[1] != '：':\n",
    "            invalids.append((k, item_x))\n",
    "            continue\n",
    "        ch = item_x[0]\n",
    "        matches = []\n",
    "        for pat_key, pat_x in pats:\n",
    "            m = pat_x.findall(item_x)\n",
    "            if m:\n",
    "                matches.append(\"-\".join(m[0]))\n",
    "            else:\n",
    "                matches.append(\"\")\n",
    "        if ch in chitems:\n",
    "            invalids.append(('duplicated', item_x, chitems[ch]))\n",
    "        else:\n",
    "            chitems[ch] = item_x[2:]\n",
    "        entries.append((ch, bu[0], *matches))    "
   ]
  },
  {
   "cell_type": "code",
   "execution_count": 159,
   "metadata": {},
   "outputs": [
    {
     "data": {
      "text/plain": [
       "(24, 9832)"
      ]
     },
     "execution_count": 159,
     "metadata": {},
     "output_type": "execute_result"
    }
   ],
   "source": [
    "len(invalids), len(entries)"
   ]
  },
  {
   "cell_type": "code",
   "execution_count": 156,
   "metadata": {},
   "outputs": [
    {
     "data": {
      "text/plain": [
       "[('duplicated',\n",
       "  '卯：事之制也。从卩、纯。凡卯之屬皆从卯。闕。',\n",
       "  '冒也。二月，萬物冒地而出。象開門之形。故二月為天門。凡卯之屬皆从卯。'),\n",
       " ('duplicated', '堀：兔堀也。从土屈聲。', '突也。《詩》曰：「蜉蝣堀閱。」从土，屈省聲。'),\n",
       " ('duplicated', '㙙：涂也。从水从土，尨聲。讀若隴。', '涂也。从土浝聲。'),\n",
       " ('duplicated',\n",
       "  '大：天大，地大，人亦大。故大象人形。古文大（他達切）也。凡大之屬皆从大。',\n",
       "  '籒文大，改古文。亦象人形。凡大之屬皆从大。'),\n",
       " ('duplicated',\n",
       "  '白：此亦自字也。省自者，詞言之气，从鼻出，與口相助也。凡白之屬皆从白。',\n",
       "  '西方色也。陰用事，物色白。从入合二。二，陰數。凡白之屬皆从白。'),\n",
       " ('duplicated', '愷：康也。从心、豈，豈亦聲。', '樂也。从心豈聲。'),\n",
       " ('duplicated', '㠭：窒也。从㠭从廾，窒宀中。㠭猶齊也。', '極巧視之也。从四工。凡㠭之屬皆从㠭。'),\n",
       " ('duplicated', '胄：𦙍也。从肉由聲。', '兜鍪也。从冃由聲。'),\n",
       " ('duplicated', '朓：祭也。从肉兆聲。', '晦而月見西方謂之朓。从月兆聲。'),\n",
       " ('duplicated', '敖：出游也。从出从放。', '游也。从出从放。'),\n",
       " ('duplicated', '敫：光景流也。从白从放。讀若龠。', '所，謌也。从欠，噭省聲。讀若叫呼之叫。'),\n",
       " ('duplicated', '鳽：石鳥。一名雝𪆫。一曰精𠛱。从隹幵聲。《春秋傳》：「秦有士鳽。」', '𪁉𪂴也。从鳥幵聲。'),\n",
       " ('duplicated',\n",
       "  '鼓：擊鼓也。从攴从壴，壴亦聲。',\n",
       "  '郭也。春分之音，萬物郭皮甲而出，故謂之鼓。从壴，支象其手擊之也。《周禮》六鼓：靁鼓八面，靈鼓六面，路鼓四面，鼖鼓、臯鼓、晉鼓皆兩面。凡鼓之屬皆从鼓。'),\n",
       " ('duplicated', '㐱：新生羽而飛也。从𠘧从彡。', '稠髮也。从彡从人。《詩》曰：「㐱髮如雲。」'),\n",
       " ('duplicated', '喦：多言也。从品相連。《春秋傳》曰：「次于喦北。」讀與聶同。', '山巖也。从山、品。讀若吟。'),\n",
       " ('duplicated', '䢌：前頡也。从辵巿聲。賈侍中說：一讀若㭘，又若郅。', '行皃。从辵巿聲。'),\n",
       " ('duplicated', '疌：機下足所履者。从止从又，入聲。', '疾也。从止从又。又，手也。屮聲。'),\n",
       " ('duplicated', '吹：噓也。从口从欠。', '出气也。从欠从口。'),\n",
       " ('duplicated', '右：助也。从口从又。', '手口相助也。从又从口。'),\n",
       " ('duplicated', '否：不也。从口从不。', '不也。从口从不，不亦聲。'),\n",
       " ('duplicated', '舌：塞口也。从口，氒省聲。', '在口，所以言也、別味也。从干从口，干亦聲。凡舌之屬皆从舌。'),\n",
       " ('duplicated', '芧：菅也。从艸矛聲。', '艸也。从艸予聲。可以為繩。'),\n",
       " ('duplicated', '萑：艸多皃。从艸隹聲。', '鴟屬。从隹从𦫳，有毛角。所鳴，其民有旤。凡萑之屬皆从萑。讀若和。'),\n",
       " ('duplicated', '襘：會福祭也。从示从會，會亦聲。《周禮》曰：「禬之祝號。」', '帶所結也。从衣會聲。《春秋傳》曰：「衣有襘。」')]"
      ]
     },
     "execution_count": 156,
     "metadata": {},
     "output_type": "execute_result"
    }
   ],
   "source": [
    "invalids"
   ]
  },
  {
   "cell_type": "code",
   "execution_count": 157,
   "metadata": {},
   "outputs": [
    {
     "data": {
      "text/html": [
       "<div>\n",
       "<style scoped>\n",
       "    .dataframe tbody tr th:only-of-type {\n",
       "        vertical-align: middle;\n",
       "    }\n",
       "\n",
       "    .dataframe tbody tr th {\n",
       "        vertical-align: top;\n",
       "    }\n",
       "\n",
       "    .dataframe thead th {\n",
       "        text-align: right;\n",
       "    }\n",
       "</style>\n",
       "<table border=\"1\" class=\"dataframe\">\n",
       "  <thead>\n",
       "    <tr style=\"text-align: right;\">\n",
       "      <th></th>\n",
       "      <th>ch</th>\n",
       "      <th>bu</th>\n",
       "      <th>sempho</th>\n",
       "      <th>semsem</th>\n",
       "      <th>extpho</th>\n",
       "    </tr>\n",
       "  </thead>\n",
       "  <tbody>\n",
       "    <tr>\n",
       "      <th>0</th>\n",
       "      <td>吏</td>\n",
       "      <td>一</td>\n",
       "      <td></td>\n",
       "      <td>一-史</td>\n",
       "      <td>史</td>\n",
       "    </tr>\n",
       "    <tr>\n",
       "      <th>1</th>\n",
       "      <td>丕</td>\n",
       "      <td>一</td>\n",
       "      <td>一-不</td>\n",
       "      <td></td>\n",
       "      <td></td>\n",
       "    </tr>\n",
       "    <tr>\n",
       "      <th>2</th>\n",
       "      <td>天</td>\n",
       "      <td>一</td>\n",
       "      <td></td>\n",
       "      <td></td>\n",
       "      <td></td>\n",
       "    </tr>\n",
       "    <tr>\n",
       "      <th>3</th>\n",
       "      <td>元</td>\n",
       "      <td>一</td>\n",
       "      <td></td>\n",
       "      <td>一-兀</td>\n",
       "      <td></td>\n",
       "    </tr>\n",
       "    <tr>\n",
       "      <th>4</th>\n",
       "      <td>一</td>\n",
       "      <td>一</td>\n",
       "      <td></td>\n",
       "      <td></td>\n",
       "      <td></td>\n",
       "    </tr>\n",
       "    <tr>\n",
       "      <th>...</th>\n",
       "      <td>...</td>\n",
       "      <td>...</td>\n",
       "      <td>...</td>\n",
       "      <td>...</td>\n",
       "      <td>...</td>\n",
       "    </tr>\n",
       "    <tr>\n",
       "      <th>9827</th>\n",
       "      <td>酉</td>\n",
       "      <td>酉</td>\n",
       "      <td></td>\n",
       "      <td></td>\n",
       "      <td></td>\n",
       "    </tr>\n",
       "    <tr>\n",
       "      <th>9828</th>\n",
       "      <td>𢍜</td>\n",
       "      <td>酋</td>\n",
       "      <td></td>\n",
       "      <td></td>\n",
       "      <td></td>\n",
       "    </tr>\n",
       "    <tr>\n",
       "      <th>9829</th>\n",
       "      <td>酋</td>\n",
       "      <td>酋</td>\n",
       "      <td></td>\n",
       "      <td></td>\n",
       "      <td></td>\n",
       "    </tr>\n",
       "    <tr>\n",
       "      <th>9830</th>\n",
       "      <td>戌</td>\n",
       "      <td>戌</td>\n",
       "      <td></td>\n",
       "      <td></td>\n",
       "      <td></td>\n",
       "    </tr>\n",
       "    <tr>\n",
       "      <th>9831</th>\n",
       "      <td>亥</td>\n",
       "      <td>亥</td>\n",
       "      <td></td>\n",
       "      <td></td>\n",
       "      <td></td>\n",
       "    </tr>\n",
       "  </tbody>\n",
       "</table>\n",
       "<p>9832 rows × 5 columns</p>\n",
       "</div>"
      ],
      "text/plain": [
       "     ch bu sempho semsem extpho\n",
       "0     吏  一           一-史      史\n",
       "1     丕  一    一-不              \n",
       "2     天  一                     \n",
       "3     元  一           一-兀       \n",
       "4     一  一                     \n",
       "...  .. ..    ...    ...    ...\n",
       "9827  酉  酉                     \n",
       "9828  𢍜  酋                     \n",
       "9829  酋  酋                     \n",
       "9830  戌  戌                     \n",
       "9831  亥  亥                     \n",
       "\n",
       "[9832 rows x 5 columns]"
      ]
     },
     "execution_count": 157,
     "metadata": {},
     "output_type": "execute_result"
    }
   ],
   "source": [
    "import pandas as pd\n",
    "shuotab = pd.DataFrame.from_records(entries[::-1], columns=\"ch,bu,sempho,semsem,extpho\".split(\",\"))\n",
    "shuotab"
   ]
  },
  {
   "cell_type": "code",
   "execution_count": 158,
   "metadata": {},
   "outputs": [],
   "source": [
    "shuotab.to_csv(\"../data/misc/shuo-wen-sem-pho.csv\", index=None)"
   ]
  },
  {
   "cell_type": "code",
   "execution_count": 141,
   "metadata": {},
   "outputs": [
    {
     "data": {
      "text/plain": [
       "'多言也。从言从八从厃。'"
      ]
     },
     "execution_count": 141,
     "metadata": {},
     "output_type": "execute_result"
    }
   ],
   "source": [
    "chitems[\"詹\"]"
   ]
  },
  {
   "cell_type": "code",
   "execution_count": 142,
   "metadata": {},
   "outputs": [
    {
     "data": {
      "text/plain": [
       "'朖也。澂水之皃。从水青聲。'"
      ]
     },
     "execution_count": 142,
     "metadata": {},
     "output_type": "execute_result"
    }
   ],
   "source": [
    "chitems[\"清\"]"
   ]
  },
  {
   "cell_type": "code",
   "execution_count": null,
   "metadata": {},
   "outputs": [],
   "source": []
  }
 ],
 "metadata": {
  "kernelspec": {
   "display_name": "Python 3",
   "language": "python",
   "name": "python3"
  },
  "language_info": {
   "codemirror_mode": {
    "name": "ipython",
    "version": 3
   },
   "file_extension": ".py",
   "mimetype": "text/x-python",
   "name": "python",
   "nbconvert_exporter": "python",
   "pygments_lexer": "ipython3",
   "version": "3.8.2"
  }
 },
 "nbformat": 4,
 "nbformat_minor": 4
}
