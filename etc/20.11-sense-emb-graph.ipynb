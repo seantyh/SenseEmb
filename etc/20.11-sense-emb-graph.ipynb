{
 "cells": [
  {
   "cell_type": "code",
   "execution_count": 1,
   "metadata": {},
   "outputs": [],
   "source": [
    "%load_ext autoreload\n",
    "%autoreload 2"
   ]
  },
  {
   "cell_type": "code",
   "execution_count": 2,
   "metadata": {},
   "outputs": [],
   "source": [
    "import sys\n",
    "sys.path.append(\"../src\")"
   ]
  },
  {
   "cell_type": "code",
   "execution_count": 3,
   "metadata": {},
   "outputs": [],
   "source": [
    "import SenseEmb"
   ]
  },
  {
   "cell_type": "code",
   "execution_count": 4,
   "metadata": {},
   "outputs": [],
   "source": [
    "skv = SenseEmb.SenseKeyedVectors.load_from_kv(\"../data/sense-emb-asbc5-600k-d50.kv\")"
   ]
  },
  {
   "cell_type": "code",
   "execution_count": 5,
   "metadata": {},
   "outputs": [],
   "source": [
    "import json\n",
    "import os\n",
    "import pickle\n",
    "import numpy as np\n",
    "import numpy.linalg as la\n",
    "import matplotlib.pyplot as plt\n",
    "import matplotlib\n",
    "import pandas as pd\n",
    "from icecream import ic\n",
    "from tqdm.auto import tqdm\n",
    "from itertools import chain, islice\n",
    "from collections import Counter\n",
    "from CwnGraph import CwnSense"
   ]
  },
  {
   "cell_type": "code",
   "execution_count": 6,
   "metadata": {},
   "outputs": [],
   "source": [
    "plt.rcParams[\"font.family\"] = \"Microsoft JhengHei\"\n",
    "plt.rcParams[\"axes.unicode_minus\"] = False"
   ]
  },
  {
   "cell_type": "code",
   "execution_count": 7,
   "metadata": {},
   "outputs": [],
   "source": [
    "import igraph as ig"
   ]
  },
  {
   "cell_type": "code",
   "execution_count": 8,
   "metadata": {},
   "outputs": [
    {
     "name": "stdout",
     "output_type": "stream",
     "text": [
      "IGRAPH UNW- 3 3 --\n",
      "+ attr: name (v), weight (e)\n",
      "+ edges (vertex names):\n",
      "0--1, 0--2, 1--2\n"
     ]
    },
    {
     "data": {
      "text/plain": [
       "[[0, 1, 2]]"
      ]
     },
     "execution_count": 8,
     "metadata": {},
     "output_type": "execute_result"
    }
   ],
   "source": [
    "# show that igraph computes the shortest path by following the path of least weight.\n",
    "gg = ig.Graph(directed=False)\n",
    "gg.add_vertices([0,1,2])\n",
    "gg.add_edges([(0,1), (0,2), (1,2)])\n",
    "gg.es[\"weight\"] = [1,3,1]\n",
    "print(gg)\n",
    "gg.get_shortest_paths(0, 2, weights=\"weight\")\n",
    "# gg.add_edge(0, 2, weight=1)"
   ]
  },
  {
   "cell_type": "markdown",
   "metadata": {},
   "source": [
    "## Construct sense graph"
   ]
  },
  {
   "cell_type": "code",
   "execution_count": 9,
   "metadata": {},
   "outputs": [],
   "source": [
    "## Extract vectors of senses (excl. word vectors)\n",
    "idx_list = []\n",
    "sense_key = []\n",
    "for tok_i, tok in enumerate(skv.index_to_key):\n",
    "    if \"-\" not in tok or tok.index(\"-\") < 1: continue\n",
    "    idx_list.append(tok_i)\n",
    "    sense_key.append(tok)"
   ]
  },
  {
   "cell_type": "code",
   "execution_count": 10,
   "metadata": {},
   "outputs": [],
   "source": [
    "sfreq = skv.expandos[\"count\"][np.array(idx_list)]\n",
    "svecs = skv.vectors[np.array(idx_list)]\n",
    "svecs /= la.norm(svecs, axis=1)[:, np.newaxis]"
   ]
  },
  {
   "cell_type": "code",
   "execution_count": 11,
   "metadata": {},
   "outputs": [],
   "source": [
    "import umap\n",
    "proj = umap.UMAP(n_neighbors=10, metric=\"cosine\", transform_mode=\"graph\")\n",
    "sAdj = proj.fit_transform(svecs)\n",
    "# transform the probability to edge weight, i.e. the higher the weight, the higher the cost, \n",
    "# and the weaker the connection\n",
    "sAdj.data = 1 + (1-sAdj.data)"
   ]
  },
  {
   "cell_type": "code",
   "execution_count": 12,
   "metadata": {},
   "outputs": [
    {
     "name": "stdout",
     "output_type": "stream",
     "text": [
      "IGRAPH U-W- 18065 139260 -- \n",
      "+ attr: weight (e)\n",
      "edge weight is none:  0\n",
      "add semantic relations:  9126\n",
      "edge weight is none 0\n",
      "IGRAPH U-W- 18065 148386 -- \n",
      "+ attr: relation (e), weight (e)\n",
      "Counter({'': 139260, 'synonym': 7119, 'hyper/hypo': 2007})\n"
     ]
    }
   ],
   "source": [
    "sG = ig.Graph.Weighted_Adjacency(sAdj, mode=ig.ADJ_UNDIRECTED)\n",
    "print(sG.summary())\n",
    "\n",
    "sense_ids = {x[x.index('-')+1:]: i for i, x in enumerate(sense_key)}\n",
    "edge_added = set()\n",
    "e_rels = []\n",
    "\n",
    "for k, v in skv.cwn.E.items():\n",
    "    if k[0] in sense_ids and k[1] in sense_ids:\n",
    "        rel_type = v[\"edge_type\"]\n",
    "        if rel_type not in \"synonym,hypernym,hyponym\":\n",
    "            continue\n",
    "        if rel_type in \"hypernym,hyponym\":\n",
    "            rel_type = \"hyper/hypo\"\n",
    "        src_id, tgt_id = sense_ids[k[0]], sense_ids[k[1]]\n",
    "        \n",
    "        eid = sG.get_eid(src_id, tgt_id, error=False)     \n",
    "        if eid >= 0:\n",
    "            # edge already exists\n",
    "            sG.es[eid][\"relation\"] = rel_type\n",
    "            sG.es[eid][\"weight\"] = 1.0\n",
    "        else:\n",
    "            edge_key = tuple(sorted([src_id, tgt_id]))\n",
    "            if edge_key not in edge_added:\n",
    "                e_rels.append((src_id, tgt_id, rel_type))\n",
    "                edge_added.add(edge_key)\n",
    "\n",
    "print(\"edge weight is none: \", sum(x is None for x in sG.es[\"weight\"]))\n",
    "sG.add_edges([(x[0], x[1]) for x in e_rels])\n",
    "sG.es[\"relation\"] = \"\"\n",
    "eid_set = Counter()\n",
    "for rel_x in e_rels:\n",
    "    eid = sG.get_eid(rel_x[0], rel_x[1])    \n",
    "    eid_set.update([eid])    \n",
    "    sG.es[eid][\"relation\"] = rel_x[2]\n",
    "    sG.es[eid][\"weight\"] = 1.0\n",
    "print(\"add semantic relations: \", len(e_rels))\n",
    "print(\"edge weight is none\", sum(x is None for x in sG.es[\"weight\"]))\n",
    "print(sG.summary())\n",
    "print(Counter(sG.es[\"relation\"]))"
   ]
  },
  {
   "cell_type": "markdown",
   "metadata": {},
   "source": [
    "## Node centrality measures"
   ]
  },
  {
   "cell_type": "code",
   "execution_count": 13,
   "metadata": {},
   "outputs": [
    {
     "name": "stderr",
     "output_type": "stream",
     "text": [
      "ic| 'compute degree'\n",
      "ic| 'compute closeness'\n",
      "ic| 'compute betweenness'\n"
     ]
    }
   ],
   "source": [
    "ic(\"compute degree\")\n",
    "node_degree = sG.degree()\n",
    "ic(\"compute closeness\")\n",
    "node_closeness = sG.closeness(weights=\"weight\")\n",
    "ic(\"compute betweenness\")\n",
    "node_betweenness = sG.betweenness(weights=\"weight\")"
   ]
  },
  {
   "cell_type": "code",
   "execution_count": 14,
   "metadata": {},
   "outputs": [],
   "source": [
    "if not (os.path.exists(\"../data/sense_graph/sense_graph.pkl\") or\n",
    "    os.path.exists(\"../data/sense_graph/sense_graph_centrality.pkl\")):\n",
    "    with open(\"../data/sense_graph/sense_graph.pkl\", \"wb\") as fout:    \n",
    "        pickle.dump(sG, fout)\n",
    "    with open(\"../data/sense_graph/sense_graph_centrality.pkl\", \"wb\") as fout:    \n",
    "        pickle.dump({\n",
    "                \"sense\": sense_key,\n",
    "                \"degree\": node_degree, \n",
    "                \"closeness\": node_closeness, \n",
    "                \"betweenness\": node_betweenness}, fout)\n",
    "else:\n",
    "    print(\"file already exists, delete them to dump again\")"
   ]
  },
  {
   "cell_type": "code",
   "execution_count": 15,
   "metadata": {},
   "outputs": [
    {
     "data": {
      "text/plain": [
       "18065"
      ]
     },
     "execution_count": 15,
     "metadata": {},
     "output_type": "execute_result"
    }
   ],
   "source": [
    "len(sG.vs)"
   ]
  },
  {
   "cell_type": "code",
   "execution_count": 17,
   "metadata": {},
   "outputs": [],
   "source": [
    "cent_dfr = pd.DataFrame({\n",
    "    \"sense\": sense_key,\n",
    "    \"degree\": node_degree, \n",
    "    \"closeness\": node_closeness, \n",
    "    \"betweenness\": node_betweenness})\n",
    "cent_dfr.head()\n",
    "cent_dfr.to_csv(\"../data/sense_graph/sense_graph_centrality.csv\", index=None)"
   ]
  },
  {
   "cell_type": "markdown",
   "metadata": {},
   "source": [
    "## Compute monosyllabic index"
   ]
  },
  {
   "cell_type": "code",
   "execution_count": 18,
   "metadata": {},
   "outputs": [],
   "source": [
    "def get_sense_nodes(word):\n",
    "    return zip(*((i, x) for i, x in enumerate(sense_key) if x.startswith(f\"{word}-\")))\n",
    "\n",
    "def induce_graph(word, G):\n",
    "    vs = set()\n",
    "    vidxs, nodes = get_sense_nodes(word)\n",
    "    for v_i in vidxs:\n",
    "        vs.update(chain(*G.get_shortest_paths(v_i, vidxs, weights=\"weight\")))\n",
    "    subG = G.induced_subgraph(vs, implementation=\"create_from_scratch\")\n",
    "    return subG"
   ]
  },
  {
   "cell_type": "code",
   "execution_count": 19,
   "metadata": {},
   "outputs": [
    {
     "data": {
      "application/vnd.jupyter.widget-view+json": {
       "model_id": "ec15c57e42214e0aa4a964fdfd1f9427",
       "version_major": 2,
       "version_minor": 0
      },
      "text/plain": [
       "HBox(children=(FloatProgress(value=0.0, max=2406.0), HTML(value='')))"
      ]
     },
     "metadata": {},
     "output_type": "display_data"
    },
    {
     "name": "stdout",
     "output_type": "stream",
     "text": [
      "\n"
     ]
    }
   ],
   "source": [
    "mw_items = []\n",
    "mw_list = set(x[:x.index('-')] for x in sense_key)\n",
    "mw_list = [x for x in mw_list if len(x)==1]\n",
    "for mw in tqdm(mw_list):    \n",
    "    word = mw\n",
    "    if len(word) != 1: continue\n",
    "    mw_G = induce_graph(word, sG)\n",
    "    mw_index = {\n",
    "        \"mw\": word,\n",
    "        \"mw_nV\": len(mw_G.vs),\n",
    "        \"mw_nE\": len(mw_G.es),\n",
    "        \"mw_weightD\": mw_G.diameter(directed=False, weights=\"weight\"),\n",
    "        \"mw_D\": mw_G.diameter(directed=False, weights=None)\n",
    "        }                \n",
    "    mw_items.append(mw_index)"
   ]
  },
  {
   "cell_type": "code",
   "execution_count": 23,
   "metadata": {},
   "outputs": [
    {
     "name": "stdout",
     "output_type": "stream",
     "text": [
      "file already exists, delete them to dump again\n"
     ]
    }
   ],
   "source": [
    "if not os.path.exists(\"../data/sense_graph/sense_graph_monosyll.pkl\"):\n",
    "    with open(\"../data/sense_graph/sense_graph_monosyll.pkl\", \"wb\") as fout:    \n",
    "        pickle.dump(mw_items, fout)    \n",
    "else:\n",
    "    print(\"file already exists, delete them to dump again\")"
   ]
  },
  {
   "cell_type": "code",
   "execution_count": 21,
   "metadata": {},
   "outputs": [
    {
     "data": {
      "text/plain": [
       "{'mw': '東', 'mw_nV': 9, 'mw_nE': 9, 'mw_weightD': 5.643903851509094, 'mw_D': 5}"
      ]
     },
     "execution_count": 21,
     "metadata": {},
     "output_type": "execute_result"
    }
   ],
   "source": [
    "mw_items[50]"
   ]
  },
  {
   "cell_type": "code",
   "execution_count": 22,
   "metadata": {},
   "outputs": [
    {
     "data": {
      "text/html": [
       "<div>\n",
       "<style scoped>\n",
       "    .dataframe tbody tr th:only-of-type {\n",
       "        vertical-align: middle;\n",
       "    }\n",
       "\n",
       "    .dataframe tbody tr th {\n",
       "        vertical-align: top;\n",
       "    }\n",
       "\n",
       "    .dataframe thead th {\n",
       "        text-align: right;\n",
       "    }\n",
       "</style>\n",
       "<table border=\"1\" class=\"dataframe\">\n",
       "  <thead>\n",
       "    <tr style=\"text-align: right;\">\n",
       "      <th></th>\n",
       "      <th>mw</th>\n",
       "      <th>mw_nV</th>\n",
       "      <th>mw_nE</th>\n",
       "      <th>mw_weightD</th>\n",
       "      <th>mw_D</th>\n",
       "    </tr>\n",
       "  </thead>\n",
       "  <tbody>\n",
       "    <tr>\n",
       "      <th>0</th>\n",
       "      <td>乙</td>\n",
       "      <td>4</td>\n",
       "      <td>4</td>\n",
       "      <td>2.638675</td>\n",
       "      <td>2</td>\n",
       "    </tr>\n",
       "    <tr>\n",
       "      <th>1</th>\n",
       "      <td>雷</td>\n",
       "      <td>4</td>\n",
       "      <td>3</td>\n",
       "      <td>4.847094</td>\n",
       "      <td>3</td>\n",
       "    </tr>\n",
       "    <tr>\n",
       "      <th>2</th>\n",
       "      <td>頁</td>\n",
       "      <td>5</td>\n",
       "      <td>4</td>\n",
       "      <td>5.269026</td>\n",
       "      <td>4</td>\n",
       "    </tr>\n",
       "    <tr>\n",
       "      <th>3</th>\n",
       "      <td>冬</td>\n",
       "      <td>5</td>\n",
       "      <td>4</td>\n",
       "      <td>4.704050</td>\n",
       "      <td>4</td>\n",
       "    </tr>\n",
       "    <tr>\n",
       "      <th>4</th>\n",
       "      <td>兩</td>\n",
       "      <td>21</td>\n",
       "      <td>25</td>\n",
       "      <td>9.561758</td>\n",
       "      <td>7</td>\n",
       "    </tr>\n",
       "  </tbody>\n",
       "</table>\n",
       "</div>"
      ],
      "text/plain": [
       "  mw  mw_nV  mw_nE  mw_weightD  mw_D\n",
       "0  乙      4      4    2.638675     2\n",
       "1  雷      4      3    4.847094     3\n",
       "2  頁      5      4    5.269026     4\n",
       "3  冬      5      4    4.704050     4\n",
       "4  兩     21     25    9.561758     7"
      ]
     },
     "execution_count": 22,
     "metadata": {},
     "output_type": "execute_result"
    }
   ],
   "source": [
    "mw_dfr = pd.DataFrame.from_records(mw_items)\n",
    "mw_dfr.to_csv(\"../data/sense_graph/sense_graph_monosyll.csv\", index=None)\n",
    "mw_dfr.head()"
   ]
  },
  {
   "cell_type": "markdown",
   "metadata": {},
   "source": [
    "## Compute bisyllabic index"
   ]
  },
  {
   "cell_type": "code",
   "execution_count": 26,
   "metadata": {},
   "outputs": [],
   "source": [
    "def find_word_constituents(word, G):\n",
    "    assert len(word) == 2\n",
    "    c1, c2 = list(word)\n",
    "    word_idxs, word_nodes = get_sense_nodes(word)\n",
    "    c1_idxs, c1_nodes = get_sense_nodes(c1)\n",
    "    c2_idxs, c2_nodes = get_sense_nodes(c2)\n",
    "    fst_word_idx, fst_word_node = sorted(zip(word_idxs, word_nodes), key=lambda x: -sfreq[x[0]])[0]\n",
    "    c1_path = [path_x for path_x in sG.get_shortest_paths(fst_word_idx, c1_idxs, weights=\"weight\")]\n",
    "    c2_path = [path_x for path_x in sG.get_shortest_paths(fst_word_idx, c2_idxs, weights=\"weight\")]\n",
    "    c1_nn_idx = np.argmin([len(x) for x in c1_path])\n",
    "    c2_nn_idx = np.argmin([len(x) for x in c2_path])\n",
    "    c1_idx = c1_idxs[c1_nn_idx]\n",
    "    c2_idx = c2_idxs[c2_nn_idx]\n",
    "    w_vec = skv.get_vector(sense_key[fst_word_idx], norm=True)\n",
    "    c1_vec = skv.get_vector(sense_key[c1_idx], norm=True)\n",
    "    c2_vec = skv.get_vector(sense_key[c2_idx], norm=True)    \n",
    "    return {\"word\": word,\n",
    "            \"word_sense\": sense_key[fst_word_idx], \n",
    "            \"c1_sense\": sense_key[c1_idx], \n",
    "            \"c2_sense\": sense_key[c2_idx],\n",
    "            \"c1_pathlen\": G.shortest_paths(fst_word_idx, c1_idx, weights=\"weight\")[0][0],\n",
    "            \"c2_pathlen\": G.shortest_paths(fst_word_idx, c2_idx, weights=\"weight\")[0][0],            \n",
    "            \"c1w_dist\": skv.cosine_similarities(c1_vec, [w_vec])[0],\n",
    "            \"c2w_dist\": skv.cosine_similarities(c2_vec, [w_vec])[0]\n",
    "           }\n",
    "def print_bw_sense(word_gindex):    \n",
    "    senses = []\n",
    "    for k in (\"word_sense\", \"c1_sense\", \"c2_sense\"):\n",
    "        token = word_gindex[k]\n",
    "        sid = token[token.index('-')+1:]\n",
    "        senses.append(CwnSense(sid, skv.cwn))\n",
    "    return senses"
   ]
  },
  {
   "cell_type": "code",
   "execution_count": 27,
   "metadata": {},
   "outputs": [
    {
     "name": "stdout",
     "output_type": "stream",
     "text": [
      "{'word': '溫度', 'word_sense': '溫度-09303101', 'c1_sense': '溫-06012503', 'c2_sense': '度-05147607', 'c1_pathlen': 1.0, 'c2_pathlen': 4.429818630218506, 'c1w_dist': 0.83186156, 'c2w_dist': 0.67908853}\n"
     ]
    },
    {
     "data": {
      "text/plain": [
       "[<CwnSense[09303101](溫度): 特定對象冷熱的程度。>,\n",
       " <CwnSense[06012503](溫): 特定對象冷熱的程度。>,\n",
       " <CwnSense[05147607](度): 計算圓弧及角的單位。>]"
      ]
     },
     "execution_count": 27,
     "metadata": {},
     "output_type": "execute_result"
    }
   ],
   "source": [
    "print(find_word_constituents(\"溫度\", sG))\n",
    "print_bw_sense(find_word_constituents(\"溫度\", sG))"
   ]
  },
  {
   "cell_type": "code",
   "execution_count": 28,
   "metadata": {},
   "outputs": [
    {
     "data": {
      "application/vnd.jupyter.widget-view+json": {
       "model_id": "bdc15bb1b3904d96a31bf7416a0b51d7",
       "version_major": 2,
       "version_minor": 0
      },
      "text/plain": [
       "HBox(children=(FloatProgress(value=0.0, max=4323.0), HTML(value='')))"
      ]
     },
     "metadata": {},
     "output_type": "display_data"
    },
    {
     "name": "stdout",
     "output_type": "stream",
     "text": [
      "\n"
     ]
    }
   ],
   "source": [
    "bw_items = []\n",
    "bw_list = set(x[:x.index('-')] for x in sense_key)\n",
    "bw_list = [x for x in bw_list if len(x)==2]\n",
    "for bw in tqdm(bw_list):    \n",
    "    word = bw\n",
    "    if len(word) != 2: continue\n",
    "    try:\n",
    "        bw_gindex = find_word_constituents(word, sG)             \n",
    "    except:\n",
    "        continue\n",
    "    bw_items.append(bw_gindex)"
   ]
  },
  {
   "cell_type": "code",
   "execution_count": 29,
   "metadata": {},
   "outputs": [
    {
     "name": "stdout",
     "output_type": "stream",
     "text": [
      "{'word': '觀點', 'word_sense': '觀點-06745501', 'c1_sense': '觀-06596303', 'c2_sense': '點-04043812', 'c1_pathlen': 1.0, 'c2_pathlen': 5.222506403923035, 'c1w_dist': 0.3392328, 'c2w_dist': 0.3046291}\n"
     ]
    },
    {
     "data": {
      "text/plain": [
       "[<CwnSense[06745501](觀點): 依照特定立場對特定對象的看法或態度。>,\n",
       " <CwnSense[06596303](觀): 依照特定立場對特定對象的看法或態度。>,\n",
       " <CwnSense[04043812](點): 指所陳述事件的部份或方面。>]"
      ]
     },
     "execution_count": 29,
     "metadata": {},
     "output_type": "execute_result"
    }
   ],
   "source": [
    "# word_gindex = find_word_constituents(\"溫度\", sG)\n",
    "print(bw_items[554])\n",
    "print_bw_sense(bw_items[554])"
   ]
  },
  {
   "cell_type": "code",
   "execution_count": 30,
   "metadata": {},
   "outputs": [],
   "source": [
    "if not os.path.exists(\"../data/sense_graph/sense_graph_bisyll.pkl\"):\n",
    "    with open(\"../data/sense_graph/sense_graph_bisyll.pkl\", \"wb\") as fout:    \n",
    "        pickle.dump(bw_items, fout)    \n",
    "else:\n",
    "    print(\"file already exists, delete them to dump again\")"
   ]
  },
  {
   "cell_type": "code",
   "execution_count": 31,
   "metadata": {},
   "outputs": [
    {
     "data": {
      "text/html": [
       "<div>\n",
       "<style scoped>\n",
       "    .dataframe tbody tr th:only-of-type {\n",
       "        vertical-align: middle;\n",
       "    }\n",
       "\n",
       "    .dataframe tbody tr th {\n",
       "        vertical-align: top;\n",
       "    }\n",
       "\n",
       "    .dataframe thead th {\n",
       "        text-align: right;\n",
       "    }\n",
       "</style>\n",
       "<table border=\"1\" class=\"dataframe\">\n",
       "  <thead>\n",
       "    <tr style=\"text-align: right;\">\n",
       "      <th></th>\n",
       "      <th>word</th>\n",
       "      <th>word_sense</th>\n",
       "      <th>c1_sense</th>\n",
       "      <th>c2_sense</th>\n",
       "      <th>c1_pathlen</th>\n",
       "      <th>c2_pathlen</th>\n",
       "      <th>c1w_dist</th>\n",
       "      <th>c2w_dist</th>\n",
       "    </tr>\n",
       "  </thead>\n",
       "  <tbody>\n",
       "    <tr>\n",
       "      <th>0</th>\n",
       "      <td>莊子</td>\n",
       "      <td>莊子-06647801</td>\n",
       "      <td>莊-05222101</td>\n",
       "      <td>子-09253601</td>\n",
       "      <td>4.400046</td>\n",
       "      <td>3.062322</td>\n",
       "      <td>0.674556</td>\n",
       "      <td>0.811159</td>\n",
       "    </tr>\n",
       "    <tr>\n",
       "      <th>1</th>\n",
       "      <td>都會</td>\n",
       "      <td>都會-05140501</td>\n",
       "      <td>都-06783901</td>\n",
       "      <td>會-04143409</td>\n",
       "      <td>4.930472</td>\n",
       "      <td>4.576944</td>\n",
       "      <td>0.452989</td>\n",
       "      <td>0.327426</td>\n",
       "    </tr>\n",
       "    <tr>\n",
       "      <th>2</th>\n",
       "      <td>惟有</td>\n",
       "      <td>惟有-05062403</td>\n",
       "      <td>惟-04033201</td>\n",
       "      <td>有-04013806</td>\n",
       "      <td>3.440316</td>\n",
       "      <td>5.481917</td>\n",
       "      <td>0.771339</td>\n",
       "      <td>0.161166</td>\n",
       "    </tr>\n",
       "    <tr>\n",
       "      <th>3</th>\n",
       "      <td>通信</td>\n",
       "      <td>通信-06766002</td>\n",
       "      <td>通-03042505</td>\n",
       "      <td>信-03047203</td>\n",
       "      <td>1.000000</td>\n",
       "      <td>5.442852</td>\n",
       "      <td>0.522043</td>\n",
       "      <td>0.778554</td>\n",
       "    </tr>\n",
       "    <tr>\n",
       "      <th>4</th>\n",
       "      <td>散落</td>\n",
       "      <td>散落-04126102</td>\n",
       "      <td>散-08030003</td>\n",
       "      <td>落-06038508</td>\n",
       "      <td>3.358353</td>\n",
       "      <td>4.416262</td>\n",
       "      <td>0.809226</td>\n",
       "      <td>0.720854</td>\n",
       "    </tr>\n",
       "  </tbody>\n",
       "</table>\n",
       "</div>"
      ],
      "text/plain": [
       "  word   word_sense    c1_sense    c2_sense  c1_pathlen  c2_pathlen  c1w_dist  \\\n",
       "0   莊子  莊子-06647801  莊-05222101  子-09253601    4.400046    3.062322  0.674556   \n",
       "1   都會  都會-05140501  都-06783901  會-04143409    4.930472    4.576944  0.452989   \n",
       "2   惟有  惟有-05062403  惟-04033201  有-04013806    3.440316    5.481917  0.771339   \n",
       "3   通信  通信-06766002  通-03042505  信-03047203    1.000000    5.442852  0.522043   \n",
       "4   散落  散落-04126102  散-08030003  落-06038508    3.358353    4.416262  0.809226   \n",
       "\n",
       "   c2w_dist  \n",
       "0  0.811159  \n",
       "1  0.327426  \n",
       "2  0.161166  \n",
       "3  0.778554  \n",
       "4  0.720854  "
      ]
     },
     "execution_count": 31,
     "metadata": {},
     "output_type": "execute_result"
    }
   ],
   "source": [
    "bw_dfr = pd.DataFrame.from_records(bw_items)\n",
    "bw_dfr.to_csv(\"../data/sense_graph/sense_graph_bisyll.csv\", index=None)\n",
    "bw_dfr.head()"
   ]
  },
  {
   "cell_type": "markdown",
   "metadata": {},
   "source": [
    "## Visualization"
   ]
  },
  {
   "cell_type": "code",
   "execution_count": 34,
   "metadata": {},
   "outputs": [],
   "source": [
    "word = \"病毒\"\n",
    "c1, c2 = list(word)\n",
    "vs = set()\n",
    "word_idxs, word_nodes = get_sense_nodes(word)\n",
    "c1_idxs, c1_nodes = get_sense_nodes(c1)\n",
    "c2_idxs, c2_nodes = get_sense_nodes(c2)\n",
    "fst_word_idx, fst_word_node = sorted(zip(word_idxs, word_nodes), key=lambda x: -sfreq[x[0]])[0]\n",
    "vs.update([fst_word_idx])\n",
    "c1_path = chain(*sG.get_shortest_paths(fst_word_idx, c1_idxs, weights=\"weight\"))\n",
    "c2_path = chain(*sG.get_shortest_paths(fst_word_idx, c2_idxs, weights=\"weight\"))\n",
    "vs.update(chain(c1_path, c2_path))\n",
    "for v_i in c1_idxs:\n",
    "    vs.update(chain(*sG.get_shortest_paths(v_i, c1_idxs, weights=\"weight\")))\n",
    "for v_i in c2_idxs:\n",
    "    vs.update(chain(*sG.get_shortest_paths(v_i, c2_idxs, weights=\"weight\")))\n",
    "vs = list(sorted(vs))\n",
    "vG = sG.induced_subgraph(vs, implementation=\"create_from_scratch\")\n",
    "ntypes = []\n",
    "for vs_x in vs:\n",
    "    if vs_x == fst_word_idx:\n",
    "        ntypes.append(\"word\")\n",
    "    elif vs_x in c1_idxs:\n",
    "        ntypes.append(\"c1\")\n",
    "    elif vs_x in c2_idxs:\n",
    "        ntypes.append(\"c2\")\n",
    "    else:\n",
    "        ntypes.append(\"other\")\n",
    "vG.vs[\"ntypes\"] = ntypes"
   ]
  },
  {
   "cell_type": "code",
   "execution_count": 35,
   "metadata": {},
   "outputs": [],
   "source": [
    "from matplotlib.colors import to_hex\n",
    "cmap = plt.get_cmap(\"Set1\")\n",
    "msz = 20\n",
    "to_hex(cmap(1))\n",
    "type_cmap = {\"word\": cmap(1), \"c1\": cmap(2), \"c2\": cmap(3)}\n",
    "type_szmap = {\"word\": 2*msz, \"c1\": 1*msz, \"c2\": 1*msz}\n",
    "type_colors = [type_cmap.get(x, (0.8,0.8,0.8, 1)) for x in vG.vs[\"ntypes\"]]\n",
    "type_sizes = [type_szmap.get(x, 2) for x in vG.vs[\"ntypes\"]]"
   ]
  },
  {
   "cell_type": "code",
   "execution_count": 37,
   "metadata": {},
   "outputs": [
    {
     "name": "stdout",
     "output_type": "stream",
     "text": [
      "{'word': '病毒', 'word_sense': '病毒-06602801', 'c1_sense': '病-06538801', 'c2_sense': '毒-06645103', 'c1_pathlen': 2.787571668624878, 'c2_pathlen': 5.483305215835571, 'c1w_dist': 0.37436885, 'c2w_dist': 0.06881947}\n"
     ]
    },
    {
     "data": {
      "text/plain": [
       "[<CwnSense[06602801](病毒): 微生物的一種，無生殖能力，只能在活寄主的細胞內增殖，會造成感染。>,\n",
       " <CwnSense[06538801](病): 生理或心理上發生的不正常的狀態。>,\n",
       " <CwnSense[06645103](毒): 形容含有危害生命的物質的。>]"
      ]
     },
     "execution_count": 37,
     "metadata": {},
     "output_type": "execute_result"
    },
    {
     "data": {
      "image/png": "[encoded data removed]",
      "text/plain": [
       "<Figure size 864x432 with 1 Axes>"
      ]
     },
     "metadata": {
      "needs_background": "light"
     },
     "output_type": "display_data"
    }
   ],
   "source": [
    "\n",
    "_, ax = plt.subplots(1, 1, figsize=(12,6))\n",
    "\n",
    "# layout vertices\n",
    "L = vG.layout_fruchterman_reingold(weights=\"weight\")\n",
    "coords = np.array(L.coords)\n",
    "\n",
    "# draw edges\n",
    "for e in vG.es:\n",
    "    s,t = e.source, e.target\n",
    "    ax.plot(coords[(s,t), 0], coords[(s,t), 1], '-', linewidth=1, color=\"#DDD\", zorder=1)\n",
    "\n",
    "# draw vertices\n",
    "ax.scatter(coords[:, 0], coords[:, 1], c=type_colors, s=type_sizes, zorder=5)\n",
    "\n",
    "# draw shortest paths\n",
    "widx = [vi for vi in range(vG.vcount()) if vG.vs[\"ntypes\"][vi] == \"word\"][0]\n",
    "c1idxs = [vi for vi in range(vG.vcount()) if vG.vs[\"ntypes\"][vi] == \"c1\"]\n",
    "c2idxs = [vi for vi in range(vG.vcount()) if vG.vs[\"ntypes\"][vi] == \"c2\"]\n",
    "c1_paths = vG.get_shortest_paths(widx, c1idxs, weights=\"weight\")\n",
    "c2_paths = vG.get_shortest_paths(widx, c2idxs, weights=\"weight\")\n",
    "c1_spath = c1_paths[np.argmin([len(x) for x in c1_paths])]\n",
    "c2_spath = c2_paths[np.argmin([len(x) for x in c2_paths])]\n",
    "for e in zip(c1_spath, c1_spath[1:]):\n",
    "    ax.plot(coords[e, 0], coords[e, 1], '-', linewidth=2, color=\"#333\")\n",
    "for e in zip(c2_spath, c2_spath[1:]):\n",
    "    ax.plot(coords[e, 0], coords[e, 1], '-', linewidth=2, color=\"#333\", zorder=1)\n",
    "\n",
    "# draw text\n",
    "ax.text(coords[widx, 0], coords[widx, 1], word, fontsize=24, color=type_cmap[\"word\"])\n",
    "ax.text(coords[c1_spath[-1], 0], coords[c1_spath[-1], 1], c1, fontsize=24, color=type_cmap[\"c1\"])\n",
    "ax.text(coords[c2_spath[-1], 0], coords[c2_spath[-1], 1], c2, fontsize=24, color=type_cmap[\"c2\"])\n",
    "\n",
    "vindex = find_word_constituents(word, sG)\n",
    "print(vindex)\n",
    "print_bw_sense(vindex)"
   ]
  },
  {
   "cell_type": "code",
   "execution_count": 211,
   "metadata": {},
   "outputs": [],
   "source": []
  },
  {
   "cell_type": "code",
   "execution_count": null,
   "metadata": {},
   "outputs": [],
   "source": []
  }
 ],
 "metadata": {
  "kernelspec": {
   "display_name": "Python 3",
   "language": "python",
   "name": "python3"
  },
  "language_info": {
   "codemirror_mode": {
    "name": "ipython",
    "version": 3
   },
   "file_extension": ".py",
   "mimetype": "text/x-python",
   "name": "python",
   "nbconvert_exporter": "python",
   "pygments_lexer": "ipython3",
   "version": "3.8.2"
  }
 },
 "nbformat": 4,
 "nbformat_minor": 4
}
