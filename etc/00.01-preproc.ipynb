{
 "cells": [
  {
   "cell_type": "code",
   "execution_count": 1,
   "metadata": {},
   "outputs": [],
   "source": [
    "from pathlib import Path\n",
    "import json\n",
    "from tqdm.auto import tqdm"
   ]
  },
  {
   "cell_type": "code",
   "execution_count": 15,
   "metadata": {},
   "outputs": [],
   "source": [
    "def make_word(token):\n",
    "    x = token\n",
    "    return f\"{x[0]}-{x[2]}\" if x[2] else x[0]"
   ]
  },
  {
   "cell_type": "code",
   "execution_count": 21,
   "metadata": {},
   "outputs": [
    {
     "data": {
      "application/vnd.jupyter.widget-view+json": {
       "model_id": "259a17b34e614f3a9d82074a52f96015",
       "version_major": 2,
       "version_minor": 0
      },
      "text/plain": [
       "HBox(children=(FloatProgress(value=0.0, max=20.0), HTML(value='')))"
      ]
     },
     "metadata": {},
     "output_type": "display_data"
    },
    {
     "name": "stdout",
     "output_type": "stream",
     "text": [
      "\n"
     ]
    }
   ],
   "source": [
    "data_dir = Path(\"../data/CWN-2.0/\")\n",
    "out_path = \"../data/sense-token-asbc5-600k.txt\"\n",
    "fout = open(out_path, \"w\", encoding=\"UTF-8\")\n",
    "token_counter = 0\n",
    "json_list = list(data_dir.iterdir())\n",
    "for fpath in tqdm(json_list):\n",
    "    if fpath.suffix!=\".json\": continue\n",
    "    fin = fpath.open(\"r\", encoding=\"UTF-8\")\n",
    "    data = json.load(fin)    \n",
    "    text = []\n",
    "    \n",
    "    for sent in data:\n",
    "        token_counter += len(sent)\n",
    "        text_x = \" \".join(\n",
    "            make_word(token) for token in sent)\n",
    "        text.append(text_x)\n",
    "    fout.write(\"\\n\".join(text))    \n",
    "else:\n",
    "    fout.close()"
   ]
  },
  {
   "cell_type": "code",
   "execution_count": 22,
   "metadata": {},
   "outputs": [
    {
     "name": "stdout",
     "output_type": "stream",
     "text": [
      "5352677\n"
     ]
    }
   ],
   "source": [
    "print(token_counter)"
   ]
  },
  {
   "cell_type": "code",
   "execution_count": 24,
   "metadata": {},
   "outputs": [],
   "source": [
    "tok_path = \"../data/sense-token-asbc5-600k.txt\"\n",
    "out_path = \"../data/word-token-asbc5-600k.txt\"\n",
    "fin = open(tok_path, \"r\", encoding=\"UTF-8\")\n",
    "fout = open(out_path, \"w\", encoding=\"UTF-8\")\n",
    "word_counter = 0\n",
    "\n",
    "ln = fin.readline()\n",
    "while ln:                  \n",
    "    toks = filter(lambda x: x, ln.strip().split(\" \"))\n",
    "    words = [tok.split(\"-\")[0] for tok in toks]    \n",
    "    \n",
    "    word_counter += len(words)        \n",
    "    fout.write(\" \".join(words))\n",
    "    fout.write(\"\\n\")\n",
    "    ln = fin.readline()\n",
    "else:\n",
    "    fout.close()"
   ]
  },
  {
   "cell_type": "code",
   "execution_count": null,
   "metadata": {},
   "outputs": [],
   "source": []
  }
 ],
 "metadata": {
  "kernelspec": {
   "display_name": "Python 3",
   "language": "python",
   "name": "python3"
  },
  "language_info": {
   "codemirror_mode": {
    "name": "ipython",
    "version": 3
   },
   "file_extension": ".py",
   "mimetype": "text/x-python",
   "name": "python",
   "nbconvert_exporter": "python",
   "pygments_lexer": "ipython3",
   "version": "3.8.2"
  }
 },
 "nbformat": 4,
 "nbformat_minor": 4
}
