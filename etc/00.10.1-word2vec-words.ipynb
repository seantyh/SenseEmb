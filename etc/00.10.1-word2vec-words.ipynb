{
 "cells": [
  {
   "cell_type": "code",
   "execution_count": 1,
   "metadata": {},
   "outputs": [],
   "source": [
    "from gensim.models import Word2Vec\n",
    "from gensim.models.word2vec import LineSentence"
   ]
  },
  {
   "cell_type": "code",
   "execution_count": 2,
   "metadata": {},
   "outputs": [],
   "source": [
    "sentences = LineSentence(\"../data/word-token-asbc5-600k.txt\")"
   ]
  },
  {
   "cell_type": "code",
   "execution_count": 4,
   "metadata": {},
   "outputs": [],
   "source": [
    "model = Word2Vec(sentences=sentences, vector_size=50, window=5, min_count=2, workers=4)"
   ]
  },
  {
   "cell_type": "code",
   "execution_count": 5,
   "metadata": {},
   "outputs": [],
   "source": [
    "wv = model.wv"
   ]
  },
  {
   "cell_type": "code",
   "execution_count": 6,
   "metadata": {},
   "outputs": [],
   "source": [
    "wv.save(\"../data/word-emb-asbc5-600k-d50.kv\")"
   ]
  },
  {
   "cell_type": "code",
   "execution_count": 7,
   "metadata": {},
   "outputs": [
    {
     "data": {
      "text/plain": [
       "[('老師', 0.8695886731147766),\n",
       " ('醫師', 0.8517979979515076),\n",
       " ('家長', 0.8152961730957031),\n",
       " ('同學', 0.7920517325401306),\n",
       " ('客人', 0.7699402570724487),\n",
       " ('同事', 0.7653486728668213),\n",
       " ('師長', 0.7495449781417847),\n",
       " ('您', 0.7357531189918518),\n",
       " ('長輩', 0.7258245348930359),\n",
       " ('大人', 0.7253441214561462)]"
      ]
     },
     "execution_count": 7,
     "metadata": {},
     "output_type": "execute_result"
    }
   ],
   "source": [
    "wv.most_similar(\"醫生\")"
   ]
  },
  {
   "cell_type": "code",
   "execution_count": 8,
   "metadata": {},
   "outputs": [
    {
     "data": {
      "text/plain": [
       "[('進', 0.8597230315208435),\n",
       " ('蓋', 0.8007550239562988),\n",
       " ('跑', 0.7374634742736816),\n",
       " ('留', 0.7360747456550598),\n",
       " ('停', 0.7235171794891357),\n",
       " ('打', 0.719691276550293),\n",
       " ('接', 0.7184176445007324),\n",
       " ('推', 0.7179546356201172),\n",
       " ('拆', 0.713143527507782),\n",
       " ('坐', 0.7120924592018127)]"
      ]
     },
     "execution_count": 8,
     "metadata": {},
     "output_type": "execute_result"
    }
   ],
   "source": [
    "wv.most_similar(\"開\")"
   ]
  },
  {
   "cell_type": "code",
   "execution_count": null,
   "metadata": {},
   "outputs": [],
   "source": []
  }
 ],
 "metadata": {
  "kernelspec": {
   "display_name": "Python 3",
   "language": "python",
   "name": "python3"
  },
  "language_info": {
   "codemirror_mode": {
    "name": "ipython",
    "version": 3
   },
   "file_extension": ".py",
   "mimetype": "text/x-python",
   "name": "python",
   "nbconvert_exporter": "python",
   "pygments_lexer": "ipython3",
   "version": "3.8.2"
  }
 },
 "nbformat": 4,
 "nbformat_minor": 4
}
